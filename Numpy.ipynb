{
 "cells": [
  {
   "cell_type": "markdown",
   "metadata": {},
   "source": [
    "# <font color=\"blue\">numpy</font>\n",
    "- <h3>stands for numerical python.\n",
    "-  it provide n dimensional homogenous mutable arrays. \n",
    "    </h3>"
   ]
  },
  {
   "cell_type": "markdown",
   "metadata": {},
   "source": [
    "# Functions\n",
    "- <h3>.array()  -  accepts a list and convert it into numpy array\n",
    "- .ndim     - tells dimension of the array\n",
    "- .shape    - tells the shape i.e no of subarrays/columns and no of elements/rows in the               subarray.\n",
    "- .dtype    - tells the datatype of the array.(array must be homogeneous)\n",
    "- .size     - tells total no of elements in a nd array. if shape = (x,y) then size = x* y\n",
    "</h3>"
   ]
  },
  {
   "cell_type": "code",
   "execution_count": 3,
   "metadata": {},
   "outputs": [],
   "source": [
    "import numpy as np"
   ]
  },
  {
   "cell_type": "code",
   "execution_count": 132,
   "metadata": {},
   "outputs": [
    {
     "name": "stdout",
     "output_type": "stream",
     "text": [
      "arr =  [ 1  2  3  4  5  6  7  8  9 10 11 12]\n",
      "ndim =  1\n",
      "shape =  (12,)\n",
      "dtype =  int32\n",
      "size =  12\n",
      "\n",
      "arr =  [[1 2]\n",
      " [3 4]\n",
      " [5 6]]\n",
      "ndim =  2\n",
      "shape =  (3, 2)\n",
      "size =  6\n",
      "\n",
      "arr =  [list([1, 2, 3]) list([4, 5, 6]) list([7, 8])]\n",
      "ndim =  1 is not correct\n",
      "shape =  (3,) is not correct\n",
      "size =  3 is not correct\n"
     ]
    }
   ],
   "source": [
    "list1 = [1,2,3,4,5,6,7,8,9,10,11,12]\n",
    "list2 = [[1,2],[3,4],[5,6]]\n",
    "list3 = [[1,2,3],[4,5,6],[7,8]]\n",
    "\n",
    "arr = np.array(list1)\n",
    "arr2 = np.array(list2)\n",
    "arr3 = np.array(list3)\n",
    "\n",
    "print(\"arr = \",arr)\n",
    "print(\"ndim = \",arr.ndim)\n",
    "print(\"shape = \",arr.shape)   \n",
    "print(\"dtype = \",arr.dtype)\n",
    "print(\"size = \",arr.size)\n",
    "\n",
    "print()\n",
    "\n",
    "print(\"arr = \",arr2)\n",
    "print(\"ndim = \",arr2.ndim)\n",
    "print(\"shape = \",arr2.shape)   \n",
    "print(\"size = \",arr2.size)\n",
    "\n",
    "print()\n",
    "\n",
    "print(\"arr = \",arr3)\n",
    "print(\"ndim = \",arr3.ndim,\"is not correct\")    # gives ans = 1 but arr3 is 2d. this is becoz no of\n",
    "                              # elements in each subarray is not equal.\n",
    "    \n",
    "print(\"shape = \",arr3.shape,\"is not correct\")  # this also gives the no of subarrays i.e 3 but not len of\n",
    "                              # subarrays as all len of subarrays is not same.(3,)\n",
    "    \n",
    "print(\"size = \",arr3.size,\"is not correct\")    # as shape is (3,) then size is 3 which must be 8."
   ]
  },
  {
   "cell_type": "markdown",
   "metadata": {},
   "source": [
    "# <font color=\"blue\">.reshape(x,y)</font>\n",
    "- <h3>to reshape a (m,n) dimensional array into a (x,y) dimensional array. but the condition m* n =  x* y must be satisfied.\n",
    "- it doesn't change the shape of current array but returns a new array.</h3>"
   ]
  },
  {
   "cell_type": "code",
   "execution_count": 45,
   "metadata": {},
   "outputs": [
    {
     "name": "stdout",
     "output_type": "stream",
     "text": [
      "[ 1  2  3  4  5  6  7  8  9 10 11 12]\n",
      "(12,)\n",
      "new shape of array of 12 elements is : \n",
      " [[ 1  2  3  4  5  6]\n",
      " [ 7  8  9 10 11 12]]\n",
      "\n",
      "arr in (3,4) shape\n",
      " [[ 1  2  3  4]\n",
      " [ 5  6  7  8]\n",
      " [ 9 10 11 12]]\n",
      "\n",
      "arr in (6,2) shape\n",
      " [[ 1  2]\n",
      " [ 3  4]\n",
      " [ 5  6]\n",
      " [ 7  8]\n",
      " [ 9 10]\n",
      " [11 12]]\n",
      "\n",
      "arr in (12,1) shape\n",
      " [[ 1]\n",
      " [ 2]\n",
      " [ 3]\n",
      " [ 4]\n",
      " [ 5]\n",
      " [ 6]\n",
      " [ 7]\n",
      " [ 8]\n",
      " [ 9]\n",
      " [10]\n",
      " [11]\n",
      " [12]]\n"
     ]
    }
   ],
   "source": [
    "print(arr)\n",
    "print(arr.shape)\n",
    "\n",
    "arr2 = arr.reshape(2,6)   # it is valid as 2*6 = 12 which is size of arr.\n",
    "print(\"new shape of array of 12 elements is : \\n\",arr2)\n",
    "\n",
    "arr2 = arr.reshape(3,4)   # valid as 3*4 = 12\n",
    "print(\"\\narr in (3,4) shape\\n\",arr2)\n",
    "\n",
    "arr2 = arr.reshape(6,2)\n",
    "print(\"\\narr in (6,2) shape\\n\",arr2)\n",
    "\n",
    "arr2 = arr.reshape(12,1)\n",
    "print(\"\\narr in (12,1) shape\\n\",arr2)\n",
    "\n",
    "#arr2 = arr.reshape(4,2)  # invalid statement as 4*2 != 12"
   ]
  },
  {
   "cell_type": "markdown",
   "metadata": {},
   "source": [
    "# <font color=\"blue\">.flatten() and ravel() </font>\n",
    "- <h3>.flatten() - it converts a 2d,3d,... array into 1 dimensional array. Return a new array\n",
    "- .ravel()   - it also converts a array into 1d array. Returns a new array.</h3>"
   ]
  },
  {
   "cell_type": "code",
   "execution_count": 65,
   "metadata": {},
   "outputs": [
    {
     "name": "stdout",
     "output_type": "stream",
     "text": [
      "\n",
      "current array shape is \n",
      " [[ 1  2  3  4]\n",
      " [ 5  6  7  8]\n",
      " [ 9 10 11 12]]\n",
      "\n",
      "array after flatten() is\n",
      " [ 1  2  3  4  5  6  7  8  9 10 11 12]\n",
      "\n",
      "current array shape is \n",
      " [[ 1  2]\n",
      " [ 3  4]\n",
      " [ 5  6]\n",
      " [ 7  8]\n",
      " [ 9 10]\n",
      " [11 12]]\n",
      "\n",
      "array after ravel() is\n",
      " [ 1  2  3  4  5  6  7  8  9 10 11 12]\n"
     ]
    }
   ],
   "source": [
    "arr2 = arr.reshape(3,4)\n",
    "print(\"\\ncurrent array shape is \\n\",arr2)\n",
    "arr2 = arr2.flatten()\n",
    "print(\"\\narray after flatten() is\\n\",arr2)\n",
    "\n",
    "arr2 = arr.reshape(6,2)\n",
    "print(\"\\ncurrent array shape is \\n\",arr2)\n",
    "arr2 = arr2.ravel()\n",
    "print(\"\\narray after ravel() is\\n\",arr2)"
   ]
  },
  {
   "cell_type": "markdown",
   "metadata": {},
   "source": [
    "# <font color=\"blue\">arange(start,end,step,dtype)</font>\n",
    "- <h3>generates a series from start to end having equal spaced between them</h3>"
   ]
  },
  {
   "cell_type": "code",
   "execution_count": 133,
   "metadata": {},
   "outputs": [
    {
     "name": "stdout",
     "output_type": "stream",
     "text": [
      "[0 1 2 3 4 5 6 7 8 9] \n",
      "\n",
      "[ 2  6 10 14 18 22 26 30 34 38 42 46 50 54 58 62 66 70 74] \n",
      "\n",
      "[[ 0  1  2  3]\n",
      " [ 4  5  6  7]\n",
      " [ 8  9 10 11]\n",
      " [12 13 14 15]\n",
      " [16 17 18 19]] \n",
      "\n",
      "[1.1 2.1 3.1 4.1 5.1 6.1 7.1 8.1 9.1] \n",
      "\n",
      "[ 2.  4.  6.  8. 10. 12. 14. 16. 18.] \n",
      "\n",
      "[ 1.+0.j  6.+0.j 11.+0.j 16.+0.j 21.+0.j 26.+0.j 31.+0.j 36.+0.j 41.+0.j\n",
      " 46.+0.j] \n",
      "\n",
      "int32 \n",
      "\n",
      "float64 \n",
      "\n",
      "object \n",
      "\n"
     ]
    }
   ],
   "source": [
    "arr = np.arange(10)       # from 0 to 10 excluding 10\n",
    "print(arr,\"\\n\")\n",
    "\n",
    "arr = np.arange(2,78,4)  # from 2 till 78 in step of 4 excluding 78\n",
    "print(arr,\"\\n\")\n",
    "\n",
    "arr = np.arange(20).reshape(5,4)  # creating a array of 20 elements in 5*4 shape\n",
    "print(arr,\"\\n\")\n",
    "\n",
    "arr = np.arange(1.1,10.1)\n",
    "print(arr,\"\\n\")\n",
    "\n",
    "arr = np.arange(2,20,2,float)     # creating a array of specific data type\n",
    "print(arr,\"\\n\")\n",
    "\n",
    "#arr = np.arange('a','z')         # arange only works with numbers not strings.\n",
    "\n",
    "arr = np.arange(1,50,5,complex)\n",
    "print(arr,\"\\n\")\n",
    "\n",
    "arr = np.arange(1,50,5)\n",
    "print(arr.dtype,\"\\n\")\n",
    "\n",
    "arr = np.arange(1,50,5,float)\n",
    "print(arr.dtype,\"\\n\")\n",
    "\n",
    "arr = np.arange(1,50,5,list)\n",
    "print(arr.dtype,\"\\n\")"
   ]
  },
  {
   "cell_type": "markdown",
   "metadata": {},
   "source": [
    "# <font color=\"blue\">ones, zeros, full, empty</font>\n",
    "- <h3>creating arrays with values intialized with one,zero, other value or empty\n",
    "- <font color =\"brown\">np.ones(shape, dtype=None, order='C')\n",
    "- np.zeros(shape, dtype=None, order='C')\n",
    "- np.empty(shape, dtype=None, order='C')\n",
    "- np.full(shape, fill_value, dtype=None, order='C')\n",
    "</font></h3>"
   ]
  },
  {
   "cell_type": "code",
   "execution_count": 189,
   "metadata": {},
   "outputs": [
    {
     "name": "stdout",
     "output_type": "stream",
     "text": [
      "[1. 1. 1. 1. 1. 1. 1. 1. 1. 1.] \n",
      "\n",
      "[0. 0. 0. 0. 0. 0. 0. 0. 0. 0.] \n",
      "\n",
      "[0. 0. 0. 0. 0. 0. 0. 0. 0. 0.] \n",
      "\n",
      "[6 6 6 6 6 6 6 6 6 6] \n",
      "\n",
      "[[0 0 0]\n",
      " [0 0 0]] \n",
      "\n",
      "[[1 1 1 1 1]\n",
      " [1 1 1 1 1]\n",
      " [1 1 1 1 1]\n",
      " [1 1 1 1 1]] \n",
      "\n",
      "[[34 34 34 34 34 34 34 34 34 34]] \n",
      "\n"
     ]
    }
   ],
   "source": [
    "arr = np.ones(10)   # create a arrays of size 10 initialzed with 1.\n",
    "print(arr,\"\\n\")\n",
    "arr = np.zeros(10)  # create a arrays of size 10 initialzed with 0.\n",
    "print(arr,\"\\n\")\n",
    "\n",
    "arr = np.empty(10)  # return an uninitialized array.\n",
    "print(arr,\"\\n\")\n",
    "\n",
    "arr = np.full(10,6) # create a array of 10 elements initialized with 6.\n",
    "print(arr,\"\\n\")\n",
    "\n",
    "#----------------------------2D-------------------------------------------\n",
    "\n",
    "arr = np.zeros((2,3),int)  # creates a 2*3 array initailized with integer 0\n",
    "print(arr,\"\\n\")\n",
    "\n",
    "arr = np.ones((4,5), dtype=int)\n",
    "print(arr,\"\\n\")\n",
    "\n",
    "arr = np.full((1,10),34)  # creates a 1*10 array means create a array consisting of 1 \n",
    "                          # subarray having 10 elements in it.\n",
    "print(arr,\"\\n\")"
   ]
  },
  {
   "cell_type": "markdown",
   "metadata": {},
   "source": [
    "# linspace(strt, end, values,dtype=)\n",
    "- <h3>returns x sequntial values between start and end .\n",
    "- example linspace(0,5,10) --> it retuns 10 seqential values between 0 and 5\n",
    " </h3>"
   ]
  },
  {
   "cell_type": "code",
   "execution_count": 201,
   "metadata": {},
   "outputs": [
    {
     "name": "stdout",
     "output_type": "stream",
     "text": [
      "[0.         0.55555556 1.11111111 1.66666667 2.22222222 2.77777778\n",
      " 3.33333333 3.88888889 4.44444444 5.        ] \n",
      "\n",
      "[ 1.    3.25  5.5   7.75 10.  ] \n",
      "\n",
      "[ 1  3  5  7 10] \n",
      "\n"
     ]
    }
   ],
   "source": [
    "arr = np.linspace(0,5,10)\n",
    "print(arr,\"\\n\")\n",
    "\n",
    "arr = np.linspace(1,10,5)\n",
    "print(arr,\"\\n\")\n",
    "arr = np.linspace(1,10,5, dtype=int)\n",
    "print(arr,\"\\n\")"
   ]
  },
  {
   "cell_type": "markdown",
   "metadata": {},
   "source": [
    "# numpy.random  in python\n"
   ]
  },
  {
   "cell_type": "code",
   "execution_count": 81,
   "metadata": {},
   "outputs": [
    {
     "name": "stdout",
     "output_type": "stream",
     "text": [
      "[0.97768072 0.98710295 0.40407777 0.70738596 0.84780503 0.99797918\n",
      " 0.94464723 0.20769367 0.43581099 0.37594573] \n",
      "\n",
      "[[0.83209725 0.46149435 0.79387035 0.36146272 0.32193389]\n",
      " [0.21314526 0.23853079 0.96923053 0.84950568 0.52906535]\n",
      " [0.39661165 0.70350997 0.0119952  0.87710662 0.29314025]\n",
      " [0.83344958 0.80607833 0.21583147 0.04796225 0.93758929]] \n",
      "\n"
     ]
    }
   ],
   "source": [
    "arr = np.random.random(10)        # generates 10 random no between 0 and 1.\n",
    "print(arr,\"\\n\")\n",
    "\n",
    "arr = np.random.random((4,5))     # generate 4*5 array of random no between 0 and 1.\n",
    "print(arr,\"\\n\")\n"
   ]
  },
  {
   "cell_type": "markdown",
   "metadata": {},
   "source": [
    "# Array Slicing"
   ]
  },
  {
   "cell_type": "code",
   "execution_count": 241,
   "metadata": {},
   "outputs": [
    {
     "name": "stdout",
     "output_type": "stream",
     "text": [
      "[[-1.   2.   0.   4. ]\n",
      " [ 4.  -0.5  6.   0. ]\n",
      " [ 2.6  0.   7.   8. ]\n",
      " [ 3.  -7.   4.   2. ]] \n",
      "\n",
      "[[ 2.6  0.   7.   8. ]\n",
      " [ 3.  -7.   4.   2. ]] \n",
      "\n",
      "[[-1.   2.   0.   4. ]\n",
      " [ 4.  -0.5  6.   0. ]\n",
      " [ 2.6  0.   7.   8. ]] \n",
      "\n",
      "[[-1.   2. ]\n",
      " [ 4.  -0.5]\n",
      " [ 2.6  0. ]\n",
      " [ 3.  -7. ]]\n",
      "[[-1.   4. ]\n",
      " [ 4.   0. ]\n",
      " [ 2.6  8. ]\n",
      " [ 3.   2. ]]\n"
     ]
    }
   ],
   "source": [
    "arr = np.array([[-1, 2, 0, 4], \n",
    "                [4, -0.5, 6, 0], \n",
    "                [2.6, 0, 7, 8], \n",
    "                [3, -7, 4, 2.0]]) \n",
    "\n",
    "print(arr[:],\"\\n\")    # print from starting index to the end\n",
    "print(arr[2:],\"\\n\")   # print from 2nd index to the end\n",
    "print(arr[:3],\"\\n\")   # print from starting index to the 2nd index excluding 3\n",
    "\n",
    "# -------------------accessing indexes of the subarrays-----------------\n",
    "\n",
    "print(arr[:,:2])   # access from starting to end index of the array and then \n",
    "                   # access from starting to 1st index of each subarray.\n",
    "    \n",
    "print(arr[:,::3])  # access only first and last index of each subarray in d whole array."
   ]
  },
  {
   "cell_type": "markdown",
   "metadata": {},
   "source": [
    "# integer Array indexing"
   ]
  },
  {
   "cell_type": "code",
   "execution_count": 246,
   "metadata": {},
   "outputs": [
    {
     "name": "stdout",
     "output_type": "stream",
     "text": [
      "[4. 6. 0. 3.]\n",
      "[4. 6. 0. 3.]\n"
     ]
    }
   ],
   "source": [
    "temp = arr[[0, 1, 2, 3], [3, 2, 1, 0]] \n",
    "# here arr[[0]] is the indexes of rows and arr[[1]] is indexes of columns.\n",
    "# it is equivalent to temp1\n",
    "temp1 = np.array( [arr[0][3], arr[1][2], arr[2][1],arr[3][0]] )\n",
    "\n",
    "print(temp)\n",
    "print(temp1)"
   ]
  },
  {
   "cell_type": "markdown",
   "metadata": {},
   "source": [
    "# boolean array indexing"
   ]
  },
  {
   "cell_type": "code",
   "execution_count": 274,
   "metadata": {},
   "outputs": [
    {
     "name": "stdout",
     "output_type": "stream",
     "text": [
      "[ 3  9 15 21 27 33 39 45 51 57] \n",
      "\n",
      "[False  True False False  True False False  True False False] \n",
      "\n",
      "[ 9 27 45]\n"
     ]
    }
   ],
   "source": [
    "arr = np.arange(3,60,6)\n",
    "print(arr,\"\\n\")\n",
    "cond = (arr % 9 ==0)     # creates a boolean array with True if condtion\n",
    "                         # satisfy on that particular index else Flase.\n",
    "print(cond,\"\\n\")\n",
    "\n",
    "print(arr[cond])        # prints only those values which satisfy the condtion."
   ]
  },
  {
   "cell_type": "markdown",
   "metadata": {},
   "source": [
    "# Matrix opertions on the array\n"
   ]
  },
  {
   "cell_type": "code",
   "execution_count": 288,
   "metadata": {},
   "outputs": [
    {
     "name": "stdout",
     "output_type": "stream",
     "text": [
      "[[ 1  2  3  4  5]\n",
      " [ 6  7  8  9 10]\n",
      " [11 12 13 14 15]] \n",
      "\n",
      "\n",
      "adding 1 to arr:\n",
      " [[ 2  3  4  5  6]\n",
      " [ 7  8  9 10 11]\n",
      " [12 13 14 15 16]]\n",
      "\n",
      "subtracting 1 from arr:\n",
      " [[ 0  1  2  3  4]\n",
      " [ 5  6  7  8  9]\n",
      " [10 11 12 13 14]]\n",
      "\n",
      "multiplying 4 to arr:\n",
      " [[ 4  8 12 16 20]\n",
      " [24 28 32 36 40]\n",
      " [44 48 52 56 60]]\n",
      "\n",
      "dividing arr by 2\n",
      " [[0.5 1.  1.5 2.  2.5]\n",
      " [3.  3.5 4.  4.5 5. ]\n",
      " [5.5 6.  6.5 7.  7.5]]\n",
      "\n",
      "transposing the arr:\n",
      " [[ 1  6 11]\n",
      " [ 2  7 12]\n",
      " [ 3  8 13]\n",
      " [ 4  9 14]\n",
      " [ 5 10 15]]\n"
     ]
    }
   ],
   "source": [
    "arr = np.arange(1,16).reshape(3,5)\n",
    "print(arr,\"\\n\")\n",
    "\n",
    "print(\"\\nadding 1 to arr:\\n\",arr+1)\n",
    "print(\"\\nsubtracting 1 from arr:\\n\",arr-1)\n",
    "print(\"\\nmultiplying 4 to arr:\\n\",arr*4)\n",
    "print(\"\\ndividing arr by 2\\n\",arr/2)\n",
    "\n",
    "print(\"\\ntransposing the arr:\\n\",arr.T)         # matrix transpose"
   ]
  },
  {
   "cell_type": "code",
   "execution_count": 7,
   "metadata": {},
   "outputs": [
    {
     "name": "stdout",
     "output_type": "stream",
     "text": [
      "matrix 1 is \n",
      " [[ 1  2  3  4  5]\n",
      " [ 6  7  8  9 10]\n",
      " [11 12 13 14 15]]\n",
      "\n",
      "matrix 2 is \n",
      " [[ 1  2  3  4  5]\n",
      " [ 6  7  8  9 10]\n",
      " [11 12 13 14 15]]\n",
      "\n",
      "elementwise addig both matrix: \n",
      " [[ 2  4  6  8 10]\n",
      " [12 14 16 18 20]\n",
      " [22 24 26 28 30]]\n",
      "\n",
      "elementwise subtracting both matrix: \n",
      " [[0 0 0 0 0]\n",
      " [0 0 0 0 0]\n",
      " [0 0 0 0 0]]\n",
      "\n",
      "elementwise multiplying both matrix: \n",
      " [[  1   4   9  16  25]\n",
      " [ 36  49  64  81 100]\n",
      " [121 144 169 196 225]]\n",
      "\n",
      "reshaping m2 to make suitable for matrix multiplication\n",
      "[[ 1  2  3]\n",
      " [ 4  5  6]\n",
      " [ 7  8  9]\n",
      " [10 11 12]\n",
      " [13 14 15]]\n",
      "\n",
      "matrix multiplication m1*m2 is : \n",
      " [[135 150 165]\n",
      " [310 350 390]\n",
      " [485 550 615]]\n"
     ]
    }
   ],
   "source": [
    "m1 = np.arange(1,16).reshape(3,5)\n",
    "print(\"matrix 1 is \\n\",m1)\n",
    "\n",
    "m2 = np.arange(1,16).reshape(3,5)\n",
    "print(\"\\nmatrix 2 is \\n\",m2)\n",
    "\n",
    "print(\"\\nelementwise addig both matrix: \\n\",m1+m2)        # this is elementwise adding\n",
    "print(\"\\nelementwise subtracting both matrix: \\n\",m1-m2)  # elementwise subtracting\n",
    "\n",
    "print(\"\\nelementwise multiplying both matrix: \\n\",m1*m2)  # element wise multiplication \n",
    "                                               # this is not a matrix multiplication.\n",
    "\n",
    "print(\"\\nreshaping m2 to make suitable for matrix multiplication\")\n",
    "m2=m2.reshape(5,3)\n",
    "print(m2)\n",
    "\n",
    "print(\"\\nmatrix multiplication m1*m2 is : \\n\",m1.dot(m2))"
   ]
  },
  {
   "cell_type": "markdown",
   "metadata": {},
   "source": [
    "# sorting numpy array\n",
    "- np.sort(a, axis=-1, kind=None, order=None)\n",
    "    - a = array to be sorted\n",
    "    - axis\n",
    "        - -1  - \n",
    "        -  0  - column wise\n",
    "        -  1  - row wise\n",
    "        - None - if none then array is flattened before sorting.\n",
    "    - kind  = {'quicksort', 'mergesort', 'heapsort', 'stable'} by default quciksort."
   ]
  },
  {
   "cell_type": "code",
   "execution_count": 51,
   "metadata": {},
   "outputs": [
    {
     "name": "stdout",
     "output_type": "stream",
     "text": [
      "the array is:\n",
      " [[ 2  6  1 13  3]\n",
      " [ 8  5  7 10 11]\n",
      " [14  4  9 15 12]] \n",
      "\n",
      "sorting row wise by default:\n",
      "[[ 1  2  3  6 13]\n",
      " [ 5  7  8 10 11]\n",
      " [ 4  9 12 14 15]] \n",
      "\n",
      "sorting column wise by default:\n",
      "[[ 2  4  1 10  3]\n",
      " [ 8  5  7 13 11]\n",
      " [14  6  9 15 12]] \n",
      "\n",
      "sorting array in 1d array:\n",
      "[ 1  2  3  4  5  6  7  8  9 10 11 12 13 14 15] \n",
      "\n",
      "sorting columnwise with mergersort:\n",
      "[[ 2  4  1 10  3]\n",
      " [ 8  5  7 13 11]\n",
      " [14  6  9 15 12]] \n",
      "\n"
     ]
    }
   ],
   "source": [
    "import random\n",
    "list1 = list(range(1,16))\n",
    "random.shuffle(list1)           # creating a shuffled list\n",
    "\n",
    "arr = np.array(list1).reshape(3,5)\n",
    "print(\"the array is:\\n\",arr,\"\\n\")\n",
    "\n",
    "print(\"sorting row wise by default:\")\n",
    "print(np.sort(arr),\"\\n\")                    # sorting row wise (by default)\n",
    "\n",
    "print(\"sorting column wise by default:\")\n",
    "print(np.sort(arr,axis=0),\"\\n\")             # sorting columnwise\n",
    "\n",
    "print(\"sorting array in 1d array:\")\n",
    "print(np.sort(arr,axis=None),\"\\n\")  \n",
    "\n",
    "print(\"sorting columnwise with mergersort:\")\n",
    "print(np.sort(arr,axis=0,kind='mergesort'),\"\\n\")"
   ]
  },
  {
   "cell_type": "markdown",
   "metadata": {},
   "source": [
    "# creating custom data type in python"
   ]
  },
  {
   "cell_type": "code",
   "execution_count": 79,
   "metadata": {},
   "outputs": [
    {
     "name": "stdout",
     "output_type": "stream",
     "text": [
      "[(b'shailesh',  123, b'DDN') (b'shailesh', 1213, b'AGRA')\n",
      " (b'ankit',   21, b'HAR') (b'Shubham',   31, b'DDL')]\n"
     ]
    }
   ],
   "source": [
    "my_dtype = [(\"name\",\"S20\"),(\"rollno\",int),(\"city\",\"S15\")]\n",
    "\n",
    "# values must be in same order as data type is.\n",
    "values = [\n",
    "            (\"shailesh\",123,\"DDN\"),(\"shailesh\",1213,\"AGRA\"),\n",
    "              (\"ankit\",21,\"HAR\"),(\"Shubham\",31,\"DDL\")\n",
    "        ]\n",
    "\n",
    "arr = np.array(values, dtype = my_dtype)\n",
    "print(arr)"
   ]
  },
  {
   "cell_type": "markdown",
   "metadata": {},
   "source": [
    "# sorting based on custom dtype"
   ]
  },
  {
   "cell_type": "code",
   "execution_count": 80,
   "metadata": {},
   "outputs": [
    {
     "name": "stdout",
     "output_type": "stream",
     "text": [
      "array with custom dtype: \n",
      " [(b'shailesh',  123, b'DDN') (b'shailesh', 1213, b'AGRA')\n",
      " (b'ankit',   21, b'HAR') (b'Shubham',   31, b'DDL')]\n",
      "\n",
      "sorting based on name:\n",
      "[(b'Shubham',   31, b'DDL') (b'ankit',   21, b'HAR')\n",
      " (b'shailesh',  123, b'DDN') (b'shailesh', 1213, b'AGRA')]\n",
      "\n",
      "sorting based on rollno:\n",
      "[(b'ankit',   21, b'HAR') (b'Shubham',   31, b'DDL')\n",
      " (b'shailesh',  123, b'DDN') (b'shailesh', 1213, b'AGRA')]\n",
      "\n",
      "sorting based on city:\n",
      "[(b'shailesh', 1213, b'AGRA') (b'Shubham',   31, b'DDL')\n",
      " (b'shailesh',  123, b'DDN') (b'ankit',   21, b'HAR')]\n",
      "\n",
      "sorting based on name and then city:\n",
      "[(b'Shubham',   31, b'DDL') (b'ankit',   21, b'HAR')\n",
      " (b'shailesh', 1213, b'AGRA') (b'shailesh',  123, b'DDN')]\n"
     ]
    }
   ],
   "source": [
    "print(\"array with custom dtype: \\n\",arr)\n",
    "\n",
    "print(\"\\nsorting based on name:\")\n",
    "print(np.sort(arr, order = 'name'))   # case sensisitive as 'S' <'a','s'\n",
    "\n",
    "print(\"\\nsorting based on rollno:\")\n",
    "print(np.sort(arr, order = 'rollno'))\n",
    "\n",
    "print(\"\\nsorting based on city:\")\n",
    "print(np.sort(arr, order = 'city'))\n",
    "\n",
    "print(\"\\nsorting based on name and then city:\")\n",
    "print(np.sort(arr, order = ['name','city']))"
   ]
  }
 ],
 "metadata": {
  "kernelspec": {
   "display_name": "Python 3",
   "language": "python",
   "name": "python3"
  },
  "language_info": {
   "codemirror_mode": {
    "name": "ipython",
    "version": 3
   },
   "file_extension": ".py",
   "mimetype": "text/x-python",
   "name": "python",
   "nbconvert_exporter": "python",
   "pygments_lexer": "ipython3",
   "version": "3.8.1"
  }
 },
 "nbformat": 4,
 "nbformat_minor": 4
}
