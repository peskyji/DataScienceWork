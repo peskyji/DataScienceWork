{
 "cells": [
  {
   "cell_type": "markdown",
   "metadata": {},
   "source": [
    "# class and object"
   ]
  },
  {
   "cell_type": "code",
   "execution_count": 13,
   "metadata": {},
   "outputs": [
    {
     "name": "stdout",
     "output_type": "stream",
     "text": [
      "Shailesh bisht 27000 1233214563 1001\n",
      "1233214563 1001\n",
      "1001\n"
     ]
    }
   ],
   "source": [
    "class Employee:\n",
    "    \n",
    "    def details(self,first,last,pay):\n",
    "        self.first = first                # a instance var with name 'first','last','pay' will be created \n",
    "        self.last = last                  # for the calling object dynamically. But, these var will not be created for \n",
    "        self.pay = pay                    # the class. means ye var sirf usi object k liye banege jo inhe call krega.\n",
    "        \n",
    "    def phno(self):\n",
    "        self.phno=1233214563\n",
    "    \n",
    "    def deptId(self):\n",
    "        self.deptId = 1001\n",
    "\n",
    "        \n",
    "emp1 = Employee()\n",
    "emp2 = Employee()\n",
    "emp3 = Employee()\n",
    "\n",
    "emp1.details('Shailesh','bisht',27000)    # emp1 k liye saare var crete honge first,last,pay,phno,deptId as it is calling\n",
    "emp1.phno()                               # all the methods.\n",
    "emp1.deptId()\n",
    "\n",
    "emp2.phno()                               # emp2 k liye sirf phno, deptId create hoga. \n",
    "emp2.deptId()                             # emp2 k pass first,last,pay var nahi honge\n",
    "\n",
    "emp3.deptId()                             # emp3 k liye sirf deptId naam ka var hoga.\n",
    "\n",
    "print(emp1.first,emp1.last,emp1.pay,emp1.phno,emp1.deptId)\n",
    "print(emp2.phno,emp2.deptId)\n",
    "print(emp3.deptId)\n",
    "\n",
    "# print(emp2.first,emp2.last,emp2.pay)                   # error dega as emp2 doesn't have first,last,pay var\n",
    "\n",
    "# print(emp3.first,emp3.last,emp3.pay,emp3.phno)         # same error dega as emp3 doesn't have first,last,pay,phno."
   ]
  },
  {
   "cell_type": "code",
   "execution_count": 50,
   "metadata": {},
   "outputs": [
    {
     "name": "stdout",
     "output_type": "stream",
     "text": [
      "12345\n",
      "False\n",
      "90\n",
      "True\n",
      "myname\n",
      "\n",
      "values before change in class variable i and name:\n",
      "MyClass.i = 12345 and MyClass.name = Shailesh\n",
      "o1.i = 45 and o1.name = myname\n",
      "\n",
      "values after change in class variable i and name:\n",
      "MyClass.i = 6789 and MyClass.name = New Name for MyClass.name is Naam\n",
      "o1.i = 45 and o1.name = myname\n"
     ]
    }
   ],
   "source": [
    "class MyClass:\n",
    "    i = 12345                   # class variable\n",
    "    name = 'Shailesh'           # class variable\n",
    "    \n",
    "    def changeI(self):\n",
    "        self.i = 45\n",
    "        self.j=90\n",
    "        \n",
    "    def changeName(self):\n",
    "        self.name=\"myname\"\n",
    "\n",
    "        \n",
    "o1 = MyClass()                   # creating object of MyClass and this object have memeber var of class.\n",
    "\n",
    "print(MyClass.i)                 # using class name to access it member var\n",
    "\n",
    "o1.changeI()                     # changing value of i for object o1.\n",
    "\n",
    "print(o1.i == MyClass.i)         # false. Value of i for MyClass will still  remain same even after changing value of i for o1\n",
    "\n",
    "print(o1.j)                      # this j var is created for object o1 hence not accessible to MyClass\n",
    "\n",
    "# print(MyClass.j)               # error MyClass doesn't have j var as it created for object o1 only\n",
    "\n",
    "print(o1.name is MyClass.name)   # true as both values are same till this point\n",
    "\n",
    "o1.changeName()                  # changing name for o1.\n",
    "\n",
    "print(o1.name)\n",
    "\n",
    "print(\"\\nvalues before change in class variable i and name:\")\n",
    "print(\"MyClass.i =\",MyClass.i,\"and MyClass.name =\",MyClass.name)\n",
    "print(\"o1.i =\",o1.i,\"and o1.name =\",o1.name)\n",
    "\n",
    "MyClass.i = 6789\n",
    "MyClass.name = 'New Name for MyClass.name is Naam'\n",
    "\n",
    "print(\"\\nvalues after change in class variable i and name:\")\n",
    "print(\"MyClass.i =\",MyClass.i,\"and MyClass.name =\",MyClass.name)\n",
    "print(\"o1.i =\",o1.i,\"and o1.name =\",o1.name)"
   ]
  },
  {
   "cell_type": "markdown",
   "metadata": {},
   "source": [
    "# use of constructor __init__"
   ]
  },
  {
   "cell_type": "code",
   "execution_count": 52,
   "metadata": {},
   "outputs": [
    {
     "name": "stdout",
     "output_type": "stream",
     "text": [
      "Emp Name:  shailesh\n",
      "Emp id:  100\n",
      "Emp deptid:  1234\n",
      "Emp salary:  56000\n",
      "\n",
      "another way of calling instance method using class name and passing object as arg which will be received in 'self'\n",
      "\n",
      "Emp Name:  shailesh\n",
      "Emp id:  100\n",
      "Emp deptid:  1234\n",
      "Emp salary:  56000\n"
     ]
    }
   ],
   "source": [
    "class Employee:\n",
    "    \n",
    "    def __init__(self,id,name,deptid,salary):\n",
    "        self.id = id\n",
    "        self.name = name\n",
    "        self. deptid = deptid\n",
    "        self.salary = salary\n",
    "    \n",
    "    def printDetails(self):\n",
    "        print(\"Emp Name: \",self.name)\n",
    "        print(\"Emp id: \",self.id)\n",
    "        print(\"Emp deptid: \",self.deptid)\n",
    "        print(\"Emp salary: \",self.salary)\n",
    "\n",
    "        \n",
    "emp1 = Employee(100,'shailesh',1234,56000)\n",
    "emp1.printDetails()\n",
    "\n",
    "print(\"\\nanother way of calling instance method using class name and passing object as arg which will be received in 'self'\\n\")\n",
    "Employee.printDetails(emp1)\n",
    "\n"
   ]
  },
  {
   "cell_type": "markdown",
   "metadata": {},
   "source": [
    "# use of '__dict__'<h2><font color = 'grey'> is method se hum ye pata kr sakte hai ki kisi v class ya uske object k pass kon kon se variable,methods hai jisko wo directly access kr skta hai.</font></h2>"
   ]
  },
  {
   "cell_type": "code",
   "execution_count": 62,
   "metadata": {},
   "outputs": [
    {
     "name": "stdout",
     "output_type": "stream",
     "text": [
      "{'__module__': '__main__', 'i': 12345, 'name': 'Shailesh', 'changeI': <function MyClass.changeI at 0x000000578B873550>, 'changeName': <function MyClass.changeName at 0x000000578B873DC0>, '__dict__': <attribute '__dict__' of 'MyClass' objects>, '__weakref__': <attribute '__weakref__' of 'MyClass' objects>, '__doc__': None}\n",
      "\n",
      "{}\n",
      "\n",
      " Shailesh\n",
      "\n",
      " {'i': 45, 'j': 90, 'name': 'myname'}\n"
     ]
    }
   ],
   "source": [
    "class MyClass:\n",
    "    i = 12345                   # class variable\n",
    "    name = 'Shailesh'           # class variable\n",
    "    \n",
    "    def changeI(self):\n",
    "        self.i = 45\n",
    "        self.j=90\n",
    "        \n",
    "    def changeName(self):\n",
    "        self.name=\"myname\"\n",
    "        \n",
    "o1 = MyClass()\n",
    "\n",
    "print(MyClass.__dict__)        # MyClass can direct access to i,name, changeI(), changeName()\n",
    "print()\n",
    "\n",
    "print(o1.__dict__)             # object o1 at this instance has no direct access to any variable.\n",
    "\n",
    "print(\"\\n\",o1.name)            # object o1 has no variable name then it will look in the class for it if not available\n",
    "                               # it will looks in parent classes if still not found it gives error.\n",
    "    \n",
    "o1.changeI()\n",
    "o1.changeName()\n",
    "\n",
    "print(\"\\n\",o1.__dict__)       # now o1 will have variables viz, i, j, name of its own."
   ]
  },
  {
   "cell_type": "markdown",
   "metadata": {},
   "source": [
    "# class method, static method and instance method"
   ]
  },
  {
   "cell_type": "markdown",
   "metadata": {},
   "source": [
    "# class method"
   ]
  },
  {
   "cell_type": "markdown",
   "metadata": {},
   "source": [
    "<h3><font color=\"brown\">ese methods jo class k members ko access kre aur modify kre unhe hum class method banate hai.in methods me hum class ko as a first argument pass krte hai.<br><br><font color=\"red\">@classmethod</font><br><font color=\"green\">def methodName(cls,oher_arguments):<br>\n",
    "    &emsp;#code</font>\n",
    "<p> It can modify a class state that would apply across all the instances of the class. For example it can modify a class variable that will be applicable to all the instances. </p>\n",
    "    \n",
    "where it is used:<br>\n",
    "    hum inhe constructior ki jagah use krte to create factory methods.</font>"
   ]
  },
  {
   "cell_type": "markdown",
   "metadata": {},
   "source": [
    "# static method"
   ]
  },
  {
   "cell_type": "markdown",
   "metadata": {},
   "source": [
    "<h3><font color=\"brown\">utility methods jinhe naa hi class ki jarurat ho aur no hi object ki but somehow class se related ho unhe hum static method banate hai.<br><br><font color=\"red\">@staticmethod</font><br><font color=\"green\">def methodName(arguments):<br>\n",
    "    &emsp;#code</font><br><br>\n",
    "where it is used:<br><br>\n",
    "    In general, static methods know nothing about class state. They are utility type methods that take some parameters and work upon those parameters.</font>"
   ]
  },
  {
   "cell_type": "code",
   "execution_count": 35,
   "metadata": {},
   "outputs": [
    {
     "name": "stdout",
     "output_type": "stream",
     "text": [
      "12000.0\n",
      "10\n",
      "20\n",
      "20\n",
      "30\n",
      "30\n",
      "no\n",
      "yes\n"
     ]
    }
   ],
   "source": [
    "# example\n",
    "\n",
    "class SI:\n",
    "    roi = 10                       # rate of interset = 6%\n",
    "    \n",
    "    def __init__(self,p,t):        # instance method\n",
    "        self.p = p\n",
    "        self.t = t\n",
    "        self.si = (p*SI.roi*t)/100\n",
    "   \n",
    "    def calculateAmt(self):         # instance method\n",
    "        self.amt = self.p + self.si\n",
    "        return self.amt\n",
    "    \n",
    "    \n",
    "    @classmethod\n",
    "    def updateROI(cls,value):       # class method having first arg as class name.\n",
    "        cls.roi = value\n",
    "    \n",
    "    @staticmethod\n",
    "    def isEligibleForLoan(income):  # static method not taking instance or class as arg.\n",
    "        return \"yes\" if income > 50000 else \"no\"\n",
    "    \n",
    "\n",
    "p1 = SI(10000,2)\n",
    "print(p1.calculateAmt())\n",
    "\n",
    "print(p1.roi)\n",
    "\n",
    "SI.updateROI(20)                  # class method called using class name\n",
    "print(SI.roi)\n",
    "print(p1.roi)\n",
    "\n",
    "p1.updateROI(30)                  # class method called using object of class\n",
    "print(SI.roi)\n",
    "print(p1.roi)\n",
    "\n",
    "print(SI.isEligibleForLoan(10000))    # static method called using class name\n",
    "print(p1.isEligibleForLoan(100000))   # static method called using object of class"
   ]
  },
  {
   "cell_type": "markdown",
   "metadata": {},
   "source": [
    "### using classmethod as a constructor"
   ]
  },
  {
   "cell_type": "code",
   "execution_count": 10,
   "metadata": {},
   "outputs": [
    {
     "name": "stdout",
     "output_type": "stream",
     "text": [
      "Employee 1 details:\n",
      "id=101, name=shailesh, address=DDN, gender=M, age=24\n",
      "\n",
      "Employee 2 details:\n",
      "id=102, name='Rohit', address='HAR', gender='M', age=22\n",
      "\n",
      "Employee 3 details:\n",
      "id=103, name='Mohit', address='PUB', gender='M', age=34\n",
      "\n",
      "Employee 4 details:\n",
      "id=104, name='Ankita', address='UK', gender='F', age=22\n"
     ]
    }
   ],
   "source": [
    "class Employee:\n",
    "    \n",
    "    def __init__(self,empid,name,add,gender,age):\n",
    "        self.empid = empid\n",
    "        self.name = name\n",
    "        self.add = add\n",
    "        self.gender = gender\n",
    "        self.age = age\n",
    "    \n",
    "    def printDetails(self):\n",
    "        print(\"id={}, name={}, address={}, gender={}, age={}\".format(self.empid,self.name,self.add,self.gender,self.age))\n",
    "        \n",
    "    @classmethod\n",
    "    def createObject(cls,value):                         # this method receives a string\n",
    "        empid,name,add,gender,age = value.split(\"-\")     # extract values in these var & \n",
    "        return cls(int(empid),name,add,gender,int(age))  # create a class object & return it.\n",
    "        \n",
    "emp1 = Employee(101,'shailesh','DDN','M',24)\n",
    "print(\"Employee 1 details:\")\n",
    "emp1.printDetails()\n",
    "\n",
    "# suppose we have a file in which details of employee are written in such manner.\n",
    "script1 = \"102-'Rohit'-'HAR'-'M'-22\"\n",
    "script2 = \"103-'Mohit'-'PUB'-'M'-34\"\n",
    "script3 = \"104-'Ankita'-'UK'-'F'-22\"\n",
    "\n",
    "# so we are passing these strings to class method which will act as a constructor to\n",
    "# create object.\n",
    "\n",
    "print(\"\\nEmployee 2 details:\")\n",
    "emp2 = Employee.createObject(script1)        # passing the string to classmethod which \n",
    "emp2.printDetails()                          # returns a object of Employee class\n",
    "\n",
    "print(\"\\nEmployee 3 details:\")\n",
    "emp3 = Employee.createObject(script2)\n",
    "emp3.printDetails()\n",
    "\n",
    "print(\"\\nEmployee 4 details:\")\n",
    "emp4 = Employee.createObject(script3)\n",
    "emp4.printDetails()"
   ]
  },
  {
   "cell_type": "markdown",
   "metadata": {},
   "source": [
    "# Inheritance in python\n",
    "<h3><font color=\"grey\">1.object class is the most parent class in python 3 like in java.<br><br>2.Python support:-<br><br>i).Single Inheritnce<br>ii).Multilevel Inheritance<br>iii).Multiple Inheritance<br>iv).Heirarchial <br>v).Hybrid</h3>\n"
   ]
  },
  {
   "cell_type": "code",
   "execution_count": 31,
   "metadata": {},
   "outputs": [
    {
     "name": "stdout",
     "output_type": "stream",
     "text": [
      "id=1001, name=Mailesh, address=HYD, gender=M, age=24\n",
      "id=1001, name=Mailesh, address=HYD, gender=M, age=24\n",
      "designation=Sr. Analyst, salary=78000\n"
     ]
    }
   ],
   "source": [
    "class Employee(object):  # (or class Employee:  same thing)\n",
    "    \n",
    "    def __init__(self,empid,name,add,gender,age):\n",
    "        self.empid = empid\n",
    "        self.name = name\n",
    "        self.add = add\n",
    "        self.gender = gender\n",
    "        self.age = age\n",
    "    \n",
    "    def printDetails(self):\n",
    "        print(\"id={}, name={}, address={}, gender={}, age={}\".format(self.empid,self.name,self.add,self.gender,self.age))\n",
    "        \n",
    "    @classmethod\n",
    "    def createObject(cls,value):                         \n",
    "        empid,name,add,gender,age = value.split(\"-\") \n",
    "        return cls(int(empid),name,add,gender,int(age))\n",
    "    \n",
    "#------------------------------------------------------------------------------------\n",
    "\n",
    "class PermanentEmp(Employee):\n",
    "    \n",
    "    def __init__(self,empid,name,add,gender,age,designation,salary):\n",
    "        \n",
    "        super().__init__(empid,name,add,gender,age)   # calling parent constructor using super()\n",
    "        \n",
    "        #Employee.__init__(self,empid,name,add,gender,age)  # calling parent constructor using parent class name.\n",
    "        \n",
    "        self.designation = designation\n",
    "        self.salary = salary\n",
    "    \n",
    "    def printDetails(self):\n",
    "        \n",
    "        super().printDetails()      # calling parent printDetails() method\n",
    "        \n",
    "        print(\"designation={}, salary={}\".format(self.designation,self.salary))\n",
    "        \n",
    "        # or printing all details at once\n",
    "        #print(\"id={}, name={}, address={}, gender={}, age={}, designation={}, salary={}\".format(self.empid,self.name,self.add,self.gender,self.age,self.designation,self.salary))\n",
    "        \n",
    "#----------------------------------------------------------------------------------------       \n",
    "\n",
    "emp1 = Employee(1001,'Mailesh','HYD','M',24)\n",
    "emp1.printDetails()\n",
    "\n",
    "# print(emp1.designation)        # emp1 being object of Employee doesn't have desigantion\n",
    "\n",
    "emp1 = PermanentEmp(1001,'Mailesh','HYD','M',24,'Sr. Analyst',78000)\n",
    "emp1.printDetails()"
   ]
  },
  {
   "cell_type": "markdown",
   "metadata": {},
   "source": [
    "### Multiple inhetance Eg"
   ]
  },
  {
   "cell_type": "code",
   "execution_count": 1,
   "metadata": {},
   "outputs": [
    {
     "name": "stdout",
     "output_type": "stream",
     "text": [
      "name=Vikas Chauhan, age=25, address=DDN\n",
      "empid=2001, managerId=5677, salary=250000\n",
      "team members are:-\n",
      "\n",
      "\n",
      "name=Utkarsh Bidla, age=25, address=DDN\n",
      "empid=2112, managerId=5677, salary=250000\n",
      "team members are:-\n",
      "corey schafer\n",
      "krish naik\n",
      "shailesh bisht\n",
      "\n",
      "name=Utkarsh Bidla, age=25, address=DDN\n",
      "empid=2112, managerId=5677, salary=250000\n",
      "team members are:-\n",
      "corey schafer\n",
      "krish naik\n",
      "shailesh bisht\n",
      "Komal Singh\n",
      "\n",
      "['Ballu singh']\n",
      "['Ballu singh', 'Pappu Kaliya']\n"
     ]
    }
   ],
   "source": [
    "class Person:\n",
    "    def __init__(self,name,age,add):\n",
    "        self.name = name\n",
    "        self.age = age\n",
    "        self.add = add\n",
    "    \n",
    "class Employee:\n",
    "    def __init__(self,empid,sal):\n",
    "        self.empid = empid\n",
    "        self.sal = sal\n",
    "\n",
    "class Manager(Person,Employee):\n",
    "    def __init__(self,name,age,add,empid,sal,managerId,members=[]):\n",
    "        self.managerId = managerId\n",
    "        self.teamMembers = members\n",
    "        Person.__init__(self,name,age,add)\n",
    "        Employee.__init__(self,empid,sal)\n",
    "\n",
    "    def addTeamMember(self,x):\n",
    "        self.teamMembers.append(x)\n",
    "        \n",
    "    def printDetails(self):  \n",
    "        print(f\"name={self.name}, age={self.age}, address={self.add}\")\n",
    "        print(f\"empid={self.empid}, managerId={self.managerId}, salary={self.sal}\")\n",
    "        print(\"team members are:-\")\n",
    "        if self.teamMembers != None:\n",
    "            for x in self.teamMembers:\n",
    "                print(x)\n",
    "        else:\n",
    "            print(\"not have any team members.\")\n",
    "         \n",
    "        \n",
    "\n",
    "mang1 = Manager('Vikas Chauhan',25,'DDN',2001,250000,5677)\n",
    "mang1.printDetails()\n",
    "print(\"\\n\")\n",
    "\n",
    "members = ['corey schafer','krish naik','shailesh bisht']\n",
    "\n",
    "mang2 = Manager('Utkarsh Bidla',25,'DDN',2112,250000,5677,members)\n",
    "mang2.printDetails()\n",
    "print()\n",
    "\n",
    "# adding a member or list of members to mang2\n",
    "mang2.addTeamMember(\"Komal Singh\")\n",
    "mang2.printDetails()\n",
    "print()\n",
    "\n",
    "# adding a member or list of members to mang1\n",
    "mang1.addTeamMember(\"Ballu singh\")\n",
    "print(mang1.teamMembers)\n",
    "mang1.addTeamMember(\"Pappu Kaliya\")\n",
    "print(mang1.teamMembers)"
   ]
  },
  {
   "cell_type": "markdown",
   "metadata": {},
   "source": [
    "# access modifiers in python"
   ]
  },
  {
   "cell_type": "markdown",
   "metadata": {},
   "source": [
    "### 1.private  -  __  (double underscore) &emsp; accessible from inside class only<br>2.protected   -  _ (single underscoe)&emsp; accessible from same package by sub classes<br>3.public   -  no underscore&emsp; accessible from everywhere."
   ]
  },
  {
   "cell_type": "code",
   "execution_count": 21,
   "metadata": {},
   "outputs": [
    {
     "name": "stdout",
     "output_type": "stream",
     "text": [
      "{'_Employee__empid': 1001, '_Employee__name': 'Mailesh', '_Employee__add': 'HYD', '_gender': 'M', 'age': 24, 'designation': 'Sr. Analyst', 'salary': 78000}\n",
      "\n",
      "Sr. Analyst\n",
      "78000\n",
      "24\n",
      "M\n"
     ]
    }
   ],
   "source": [
    "class Employee(object):\n",
    "    \n",
    "    def __init__(self,empid,name,add,gender,age):\n",
    "        self.__empid = empid                             # private instance variable\n",
    "        self.__name = name                               # private instance variable\n",
    "        self.__add = add                                 # private instance variable\n",
    "        self._gender = gender                            # protected instance variable\n",
    "        self.age = age                                   # public instance variable\n",
    "    \n",
    "    def printDetails(self):\n",
    "        print(\"id={}, name={}, address={}, gender={}, age={}\".format(self.empid,self.name,self.add,self.gender,self.age))\n",
    "    \n",
    "\n",
    "class PermanentEmp(Employee):\n",
    "    def __init__(self,empid,name,add,gender,age,designation,salary):\n",
    "        super().__init__(empid,name,add,gender,age)   \n",
    "        self.designation = designation\n",
    "        self.salary = salary\n",
    "        \n",
    "    def printDetails(self):\n",
    "        super().printDetails()      \n",
    "        print(\"designation={}, salary={}\".format(self.designation,self.salary))\n",
    "        \n",
    "\n",
    "emp1 = PermanentEmp(1001,'Mailesh','HYD','M',24,'Sr. Analyst',78000)\n",
    "print(emp1.__dict__)\n",
    "print()\n",
    "\n",
    "# accessing public variables.\n",
    "\n",
    "print(emp1.designation)\n",
    "print(emp1.salary)\n",
    "print(emp1.age)\n",
    "\n",
    "# accessing protected variables\n",
    "\n",
    "#print(emp1.gender)    error as gender is proctected attribute so use\n",
    "print(emp1._gender)\n",
    "\n",
    "# accessing private variables\n",
    "\n",
    "#print(emp1.__empid)   # error as private variables cannot be accessed directly\n",
    "#print(emp1.__name)    "
   ]
  },
  {
   "cell_type": "markdown",
   "metadata": {},
   "source": [
    "# getter and setter in python"
   ]
  },
  {
   "cell_type": "markdown",
   "metadata": {},
   "source": [
    "### In python we dont have getters and setters method like java but to implement the same we use<font color=\"red\"> '@property' </font>decorator or <font color=\"red\">property() </font>method."
   ]
  },
  {
   "cell_type": "markdown",
   "metadata": {},
   "source": [
    "### 1. property(fget, fset, fdel, fdoc)<br><br>fget = getter method<br> fset = setter method <br>fdel = method for deleteing an attribute<br> fdoc = creates a docstring for an attribute."
   ]
  },
  {
   "cell_type": "code",
   "execution_count": 67,
   "metadata": {},
   "outputs": [
    {
     "name": "stdout",
     "output_type": "stream",
     "text": [
      "{'_Geeks__age': 0}\n",
      "setter method called\n",
      "getter method called\n",
      "10\n",
      "{'_Geeks__age': 10}\n"
     ]
    }
   ],
   "source": [
    "# Python program showing a \n",
    "# use of property() function \n",
    "  \n",
    "class Geeks: \n",
    "     def __init__(self): \n",
    "          self.__age = 0\n",
    "       \n",
    "     # function to get value of _age \n",
    "     def get_age(self):                   # no name convention can write any name\n",
    "         print(\"getter method called\") \n",
    "         return self.__age \n",
    "       \n",
    "     # function to set value of _age \n",
    "     def ageSetter(self, a): \n",
    "         print(\"setter method called\") \n",
    "         self.__age = a \n",
    "  \n",
    "     # function to delete _age attribute \n",
    "     def del_age(self): \n",
    "         del self.__age \n",
    "     \n",
    "     myAge = property(get_age, ageSetter, del_age)  # property method on age variables\n",
    "        \n",
    "mark = Geeks() \n",
    "  \n",
    "print(mark.__dict__)\n",
    "    \n",
    "mark.myAge = 10   # this will call the setter method and pass 10 as argument.\n",
    "\n",
    "print(mark.myAge)  # this will call the getter method and will return a string.\n",
    "\n",
    "print(mark.__dict__)"
   ]
  },
  {
   "cell_type": "markdown",
   "metadata": {},
   "source": [
    "### 2. @property<br><br><font color=\"red\">getter method</font><br><br>@property<br>def Attribute_name(self):<br>&emsp;#code<br><br><font color=\"red\">setter method </font><br><br>@Attribute_name.setter<br> def Attribute_name(self, argument if any):<br>&emsp;#code<br><br><font color=\"red\">deleter method </font><br><br>@Attribute_name.deleter<br>def Attribute_name(self, argument if any):<br>&emsp;#code"
   ]
  },
  {
   "cell_type": "code",
   "execution_count": 109,
   "metadata": {},
   "outputs": [
    {
     "name": "stdout",
     "output_type": "stream",
     "text": [
      "values for emp1 after creation are: \n",
      "{'_Employee__empid': 1001, '_name': 'shailesh', 'add': 'Pauri'}\n",
      "address = Pauri\n",
      "name= shailesh\n",
      "\n",
      "setter method of empid is called\n",
      "\n",
      "getter method of empid is called\n",
      "2222\n",
      "values for emp1 after calling getter and setter for empid are: \n",
      "{'_Employee__empid': 2222, '_name': 'shailesh', 'add': 'Pauri'}\n",
      "\n",
      "deleter method of empid is called\n",
      "values  after delteting empid are: \n",
      "\n",
      "{'_Employee__empid': None, '_name': 'shailesh', 'add': 'Pauri'}\n"
     ]
    }
   ],
   "source": [
    "class Employee(object):\n",
    "    def __init__(self,empid,name,add):\n",
    "        self.__empid = empid       # private                            \n",
    "        self._name = name          # protected           \n",
    "        self.add = add             # public            \n",
    "       \n",
    "        \n",
    "    @property                      # getter property for empid\n",
    "    def empid(self):\n",
    "        print(\"\\ngetter method of empid is called\")\n",
    "        return self.__empid\n",
    "    \n",
    "    @empid.setter                  # setter property for empid\n",
    "    def empid(self,id):\n",
    "        print(\"\\nsetter method of empid is called\")\n",
    "        self.__empid = id\n",
    "    \n",
    "    @empid.deleter                 # deleter property for empid it will trigger\n",
    "    def empid(self):     # when empid instance get deleted.\n",
    "        print(\"\\ndeleter method of empid is called\")\n",
    "        self.__empid = None\n",
    "        \n",
    "emp1 = Employee(1001,'shailesh','Pauri')\n",
    "\n",
    "print(\"values for emp1 after creation are: \")\n",
    "print(emp1.__dict__)\n",
    "\n",
    "print(\"address =\",emp1.add)\n",
    "print(\"name=\",emp1._name)\n",
    "#print(emp1.__empid)              # trying to access private attribute directly\n",
    "\n",
    "emp1.empid = 2222               # calling setter method and passing 2222 as agrument\n",
    "print(emp1.empid)               # calling getter method which will return empid\n",
    "\n",
    "print(\"values for emp1 after calling getter and setter for empid are: \")\n",
    "print(emp1.__dict__)\n",
    "\n",
    "del(emp1.empid)\n",
    "print(\"\\values  after delteting empid are: \")\n",
    "print(emp1.__dict__)"
   ]
  },
  {
   "cell_type": "markdown",
   "metadata": {},
   "source": [
    "## access private attributes of a instance directly"
   ]
  },
  {
   "cell_type": "code",
   "execution_count": 107,
   "metadata": {},
   "outputs": [
    {
     "name": "stdout",
     "output_type": "stream",
     "text": [
      "setter method of empid is called\n",
      "current value for emp1 is : \n",
      "{'_Employee__empid': 2345, '_name': 'shailesh', 'add': 'Pauri'}\n",
      "value for emp1 after direct assignment is : \n",
      "{'_Employee__empid': 4343, '_name': 'shailesh', 'add': 'Pauri'}\n"
     ]
    }
   ],
   "source": [
    "# setting empid in above eg\n",
    "emp1.empid = 2345\n",
    "print(\"current value for emp1 is : \")\n",
    "print(emp1.__dict__)\n",
    "\n",
    "emp1._Employee__empid = 4343      # setting empid directly from outside.\n",
    "\n",
    "print(\"value for emp1 after direct assignment is : \")\n",
    "print(emp1.__dict__)\n"
   ]
  }
 ],
 "metadata": {
  "kernelspec": {
   "display_name": "Python 3",
   "language": "python",
   "name": "python3"
  },
  "language_info": {
   "codemirror_mode": {
    "name": "ipython",
    "version": 3
   },
   "file_extension": ".py",
   "mimetype": "text/x-python",
   "name": "python",
   "nbconvert_exporter": "python",
   "pygments_lexer": "ipython3",
   "version": "3.8.1"
  }
 },
 "nbformat": 4,
 "nbformat_minor": 4
}
