{
 "cells": [
  {
   "cell_type": "markdown",
   "metadata": {},
   "source": [
    "# MINOR DETAILS"
   ]
  },
  {
   "cell_type": "code",
   "execution_count": 1,
   "metadata": {},
   "outputs": [
    {
     "name": "stdout",
     "output_type": "stream",
     "text": [
      "3.8.1 (tags/v3.8.1:1b293b6, Dec 18 2019, 23:11:46) [MSC v.1916 64 bit (AMD64)]\n"
     ]
    }
   ],
   "source": [
    "import sys\n",
    "print(sys.version)"
   ]
  },
  {
   "cell_type": "code",
   "execution_count": 2,
   "metadata": {},
   "outputs": [
    {
     "name": "stdout",
     "output_type": "stream",
     "text": [
      "[0, 2, 4, 6, 8]\n"
     ]
    }
   ],
   "source": [
    "l1=[0,1,2,3,4,5,6,8,9]\n",
    "l2=[n for n in l1 if n%2==0]\n",
    "print(l2)"
   ]
  },
  {
   "cell_type": "code",
   "execution_count": 4,
   "metadata": {},
   "outputs": [
    {
     "name": "stdout",
     "output_type": "stream",
     "text": [
      "Enter your name: shailesh\n",
      "hello 10 welcome back. shailesh, we have quite interesting puzzles for you to solve.\n"
     ]
    }
   ],
   "source": [
    "name=input(\"Enter your name: \")\n",
    "print(\"hello {1} welcome back. {0}, we have quite interesting puzzles for you to solve.\".format(name,10))"
   ]
  },
  {
   "cell_type": "code",
   "execution_count": 5,
   "metadata": {},
   "outputs": [
    {
     "data": {
      "image/png": "[encoded data removed]",
      "text/plain": [
       "<Figure size 432x288 with 1 Axes>"
      ]
     },
     "metadata": {},
     "output_type": "display_data"
    }
   ],
   "source": [
    "import matplotlib.pyplot as plt\n",
    "\n",
    "# Data to plot\n",
    "labels = 'Python', 'C++', 'Ruby', 'Java'\n",
    "sizes = [215, 130, 245, 210]\n",
    "colors = ['gold', 'yellowgreen', 'lightcoral', 'lightskyblue']\n",
    "explode = (0.1, 0, 0, 0)  # explode 1st slice\n",
    "\n",
    "# Plot\n",
    "plt.pie(sizes, explode=explode, labels=labels, colors=colors,\n",
    "autopct='%1.1f%%', shadow=True, startangle=140)\n",
    "\n",
    "plt.axis('equal')\n",
    "plt.show()"
   ]
  },
  {
   "cell_type": "markdown",
   "metadata": {},
   "source": [
    "# STRING FORMATTING"
   ]
  },
  {
   "cell_type": "markdown",
   "metadata": {},
   "source": [
    "### 1.PRINTING INTEGER VALUES IN N DECIMAL FORMAT"
   ]
  },
  {
   "cell_type": "code",
   "execution_count": 6,
   "metadata": {
    "scrolled": true
   },
   "outputs": [
    {
     "name": "stdout",
     "output_type": "stream",
     "text": [
      "Enter the no of digits to be printed for a number: 5\n",
      "01000\t\t1,000\t\t\n",
      "01050\t\t1,050\t\t\n",
      "01100\t\t1,100\t\t\n",
      "01150\t\t1,150\t\t\n"
     ]
    }
   ],
   "source": [
    "n=int(input(\"Enter the no of digits to be printed for a number: \"))\n",
    "if n//10==0:\n",
    "    noOfDigits=\"0{}\".format(n)\n",
    "for i in range(1000,1200,50):\n",
    "    print(format(i,noOfDigits),end=\"\\t\\t\")   # printing a number in n digit fromat\n",
    "    print(format(i,','),end=\"\\t\\t\")          # printing a number with comma included\n",
    "    print()\n",
    "    \n",
    "    # printing in 3 digit fromat write '03'\n",
    "    # printing in 6 digit format write '06'\n",
    "     "
   ]
  },
  {
   "cell_type": "markdown",
   "metadata": {},
   "source": [
    "### 2.PRINTING FLP NUMBER IN N DECIMAL PLACES"
   ]
  },
  {
   "cell_type": "code",
   "execution_count": 7,
   "metadata": {},
   "outputs": [
    {
     "name": "stdout",
     "output_type": "stream",
     "text": [
      "1000.00\t\t1,000.000\t\t\n",
      "1100.00\t\t1,100.000\t\t\n",
      "1200.00\t\t1,200.000\t\t\n",
      "1300.00\t\t1,300.000\t\t\n",
      "1400.00\t\t1,400.000\t\t\n",
      "1500.00\t\t1,500.000\t\t\n",
      "1600.00\t\t1,600.000\t\t\n",
      "1700.00\t\t1,700.000\t\t\n",
      "1800.00\t\t1,800.000\t\t\n",
      "1900.00\t\t1,900.000\t\t\n",
      "2000.00\t\t2,000.000\t\t\n",
      "2100.00\t\t2,100.000\t\t\n"
     ]
    }
   ],
   "source": [
    "#n=int(input(\"Enter the no of digits to be printed for a number: \"))\n",
    "for i in range(1000,2101,100):\n",
    "    print(format(i,'.2f'),end=\"\\t\\t\")     # for printing no upto 2 decimal places\n",
    "    print(format(i,',.3f'),end=\"\\t\\t\")    # printing upto 3 decimal places along with comma\n",
    "    print()"
   ]
  },
  {
   "cell_type": "markdown",
   "metadata": {},
   "source": [
    "### 3.FOMATTING IN STRING"
   ]
  },
  {
   "cell_type": "code",
   "execution_count": 8,
   "metadata": {},
   "outputs": [
    {
     "name": "stdout",
     "output_type": "stream",
     "text": [
      "the value is 000\n",
      "the value is 001\n",
      "the value is 002\n",
      "the value is 003\n",
      "the value is 004\n",
      "the value is 005\n",
      "the value is 006\n",
      "the value is 007\n"
     ]
    }
   ],
   "source": [
    "for i in range(8):\n",
    "    ans=\"the value is {:03}\".format(i)\n",
    "    print(ans)"
   ]
  },
  {
   "cell_type": "code",
   "execution_count": 9,
   "metadata": {},
   "outputs": [
    {
     "name": "stdout",
     "output_type": "stream",
     "text": [
      "the value is 0.0000\n",
      "the value is 1.0000\n",
      "the value is 2.0000\n",
      "the value is 3.0000\n",
      "the value is 4.0000\n",
      "the value is 5.0000\n",
      "the value is 6.0000\n",
      "the value is 7.0000\n"
     ]
    }
   ],
   "source": [
    "for i in range(8):\n",
    "    ans=\"the value is {:.4f}\".format(i)\n",
    "    print(ans)"
   ]
  },
  {
   "cell_type": "code",
   "execution_count": 10,
   "metadata": {},
   "outputs": [
    {
     "name": "stdout",
     "output_type": "stream",
     "text": [
      "the value is 1,000 \t the value is 1,000.00\n",
      "\n",
      "the value is 1,120 \t the value is 1,120.00\n",
      "\n",
      "the value is 1,240 \t the value is 1,240.00\n",
      "\n",
      "the value is 1,360 \t the value is 1,360.00\n",
      "\n",
      "the value is 1,480 \t the value is 1,480.00\n",
      "\n",
      "the value is 1,600 \t the value is 1,600.00\n",
      "\n",
      "the value is 1,720 \t the value is 1,720.00\n",
      "\n",
      "the value is 1,840 \t the value is 1,840.00\n",
      "\n",
      "the value is 1,960 \t the value is 1,960.00\n",
      "\n"
     ]
    }
   ],
   "source": [
    "for i in range(1000,2001,120):\n",
    "    ans1=\"the value is {:,}\".format(i)          # printing comma in a number as in the number system\n",
    "    ans2=\"the value is {:,.2f}\".format(i)       # printng comma along with 2 decimal places in a number\n",
    "    print(ans1,'\\t',ans2)\n",
    "    print()"
   ]
  },
  {
   "cell_type": "markdown",
   "metadata": {},
   "source": [
    "# RANDOM PACKAGE"
   ]
  },
  {
   "cell_type": "code",
   "execution_count": 2,
   "metadata": {},
   "outputs": [
    {
     "name": "stdout",
     "output_type": "stream",
     "text": [
      "0.9302339905625664\n",
      "17.871407652719917\n",
      "11\n"
     ]
    }
   ],
   "source": [
    "import random\n",
    "\n",
    "value=random.random()           # prints random Floating value between 0 and 1\n",
    "print(value)\n",
    "\n",
    "value=random.uniform(1,22)      # prints random FLP number between given intervals\n",
    "print(value)\n",
    "\n",
    "value=random.randint(1,22)      # prints integer value between the intervals incluning the intervals too.\n",
    "print(value)\n"
   ]
  },
  {
   "cell_type": "markdown",
   "metadata": {},
   "source": [
    "### choice, choices, choices vs sample"
   ]
  },
  {
   "cell_type": "code",
   "execution_count": 12,
   "metadata": {},
   "outputs": [
    {
     "name": "stdout",
     "output_type": "stream",
     "text": [
      "my name is Amit\n",
      "['Shailesh', 'Sahil', 'Shailesh', 'Sita', 'Ram', 'Amit', 'Rahul', 'Sahil', 'Mohit', 'Rohit', 'Sita', 'Sita']\n",
      "['Rohit', 'Ram', 'Jyoti', 'Amit', 'Shailesh', 'Sita', 'Rahul', 'Mohit']\n"
     ]
    }
   ],
   "source": [
    "names=['Ram','Sita','Rahul','Amit','Ankit','Sahil','Rohit','Mohit','Jyoti','Shailesh']\n",
    "\n",
    "value=random.choice(names)       # this method picks a random choice from given list i.e names\n",
    "print(f\"my name is {value}\")\n",
    "\n",
    "value=random.choices(names,k=12)  #creates a list of k random choices from passed arg i.e names\n",
    "print(value)\n",
    "\n",
    "value=random.sample(names,k=8)   # sames as choices but will provide k unique values no duplicates like in choices\n",
    "print(value)\n",
    "\n",
    "# value=random.sample(names,k=12  -----> this provides error as the value of k must be k<=len(list)"
   ]
  },
  {
   "cell_type": "markdown",
   "metadata": {},
   "source": [
    "### suffle a list"
   ]
  },
  {
   "cell_type": "code",
   "execution_count": 13,
   "metadata": {},
   "outputs": [
    {
     "name": "stdout",
     "output_type": "stream",
     "text": [
      "[1, 2, 3, 4, 5, 6, 7, 8, 9, 10, 11, 12, 13, 14, 15, 16, 17, 18, 19, 20, 21, 22, 23, 24, 25, 26, 27, 28, 29, 30, 31, 32, 33, 34, 35, 36, 37, 38, 39, 40, 41, 42, 43, 44, 45, 46, 47, 48, 49, 50, 51, 52]\n",
      "[7, 10, 17, 28, 29, 43, 39, 23, 27, 36, 3, 51, 6, 41, 50, 31, 42, 21, 13, 30, 35, 5, 19, 11, 45, 52, 16, 40, 37, 8, 24, 48, 15, 20, 12, 34, 44, 14, 49, 4, 2, 25, 22, 1, 26, 18, 38, 9, 33, 47, 46, 32]\n"
     ]
    }
   ],
   "source": [
    "deck = list(range(1,53))    # OR deck=[n for n in range(1,53)]\n",
    "print(deck)\n",
    "random.shuffle(deck)        # it shuffles a list\n",
    "print(deck)"
   ]
  },
  {
   "cell_type": "markdown",
   "metadata": {},
   "source": [
    "# REGULAR EXPRESSION PACKAGE (re)"
   ]
  },
  {
   "cell_type": "markdown",
   "metadata": {},
   "source": [
    "### Raw String in python"
   ]
  },
  {
   "cell_type": "code",
   "execution_count": 14,
   "metadata": {},
   "outputs": [
    {
     "name": "stdout",
     "output_type": "stream",
     "text": [
      "ram\bsita\n",
      "ram\\bsita\n",
      "hello \t ram\n",
      "hello \\t ram\n"
     ]
    }
   ],
   "source": [
    "print(\"ram\\bsita\")     # normal string with escape sequence in it\n",
    "print(r\"ram\\bsita\")    # r string or raw string will treat any escape character as a raw string.\n",
    "\n",
    "print(\"hello \\t ram\")\n",
    "print(r\"hello \\t ram\")\n"
   ]
  },
  {
   "cell_type": "markdown",
   "metadata": {},
   "source": [
    "### complie and finditer method in RE"
   ]
  },
  {
   "cell_type": "code",
   "execution_count": 16,
   "metadata": {},
   "outputs": [
    {
     "name": "stdout",
     "output_type": "stream",
     "text": [
      "<re.Match object; span=(53, 58), match='Z\\n123'>\n"
     ]
    }
   ],
   "source": [
    "import re\n",
    "\n",
    "text_to_search = '''\n",
    "abcdefghijklmnopqrstuvwxyz\n",
    "ABCDEFGHIJKLMNOPQRSTUVWXYZ\n",
    "1234567890\n",
    "\n",
    "Ha HaHa\n",
    "\n",
    "MetaCharacters  (Need to be escaped by puttting \\ before them):\n",
    ". ^ $ * + ? { } [ ] \\ | ( )\n",
    "\n",
    "coreyms.com\n",
    "123-567-789\n",
    "345-765-890\n",
    "\n",
    "Mr. Schafer\n",
    "Mr. Smith\n",
    "Mr. Davis\n",
    "Mr. Shailesh\n",
    "\n",
    "'''\n",
    "\n",
    "sentence = 'Start a sentence and then bring it to an end'\n",
    "\n",
    "pattern = re.compile(r'Z\\n123')    # to search a pattern we use comile method.\n",
    "\n",
    "matches = pattern.finditer(text_to_search)   # finditer method will return a object with matched pattern \n",
    "                                             # along with its index range i.e span\n",
    "                                             # it returns nothing if no match found\n",
    "for match in matches:\n",
    "    print(match)\n",
    "\n"
   ]
  },
  {
   "cell_type": "markdown",
   "metadata": {},
   "source": [
    "### Special characters--->   . ^ * + ? { } [ ] \\ | ( ) $ have their meaning in searchng. <br>So in order to search these characters in the string we have to use '\\' before them to search ."
   ]
  },
  {
   "cell_type": "code",
   "execution_count": 17,
   "metadata": {},
   "outputs": [
    {
     "name": "stdout",
     "output_type": "stream",
     "text": [
      "<re.Match object; span=(140, 141), match='.'>\n",
      "<re.Match object; span=(176, 177), match='.'>\n",
      "<re.Match object; span=(208, 209), match='.'>\n",
      "<re.Match object; span=(220, 221), match='.'>\n",
      "<re.Match object; span=(230, 231), match='.'>\n",
      "<re.Match object; span=(240, 241), match='.'>\n",
      "(140, 141)\n",
      "(176, 177)\n",
      "(208, 209)\n",
      "(220, 221)\n",
      "(230, 231)\n",
      "(240, 241)\n"
     ]
    }
   ],
   "source": [
    "# suppose we have to find '.'(full stop) in our string text_to_speech then\n",
    "\n",
    "pattern = re.compile(r\".\")      # this will search for every character other than a new line character. \n",
    "                                # Becoz this is what . means in regular expression as it a special character with a meaning.\n",
    "    \n",
    "pattern = re.compile(r\"\\.\")     # now using \\ for special charcaters will search for . only.\n",
    "\n",
    "matches = pattern.finditer(text_to_search)\n",
    "\n",
    "matched_indexes=[]\n",
    "for match in matches:\n",
    "    print(match)\n",
    "    matched_indexes.append(match.span())   # .span() method will give a tuple(start_index,end_index) of matched patterns\n",
    "\n",
    "for x in matched_indexes:\n",
    "    print(x)\n"
   ]
  },
  {
   "cell_type": "markdown",
   "metadata": {},
   "source": [
    "### Special characters meaning in Regular Expression<br><br>.   -  searches for Any Character Except new line <br>\\d  -  searches for Digits(0-9) <br>\\D  -  searches for Not a Digit <br>\\w  -  searches for word character ( a-z, A-Z, 0-9, _ )<br>\\W  -  searches for not a word character <br>\\s  -  searches for whitespaces (Space, Tab, newLine) <br>\\S  -  searches for not whitespaces <br> <br>\\b  -  word boundary searches for pattern from starting of every word not from middle of a word. <br>\\B  -  searches for pattern in between or middle of every words. <br>^   -  checks for a word whether it is beginnig of a string. <br>$   -  checks for a word whether it is ending of a string.<br>[]  -  searches for only one of those characters which are written inside this braces.<br><br>[^ ] -  searches for charactes not inside braces.<br><br>|   -  Either or<br><br>( ) -  Group"
   ]
  },
  {
   "cell_type": "code",
   "execution_count": 18,
   "metadata": {},
   "outputs": [
    {
     "name": "stdout",
     "output_type": "stream",
     "text": [
      "<re.Match object; span=(182, 194), match='123-567-7891'>\n",
      "<re.Match object; span=(195, 207), match='345.765.8905'>\n",
      "<re.Match object; span=(212, 224), match='456-787-9087'>\n",
      "<re.Match object; span=(225, 237), match='123A890A5678'>\n",
      "<re.Match object; span=(238, 250), match='123%999%7788'>\n",
      "\n",
      "phone no search for only those separated by - and .\n",
      "\n",
      "<re.Match object; span=(182, 195), match='123-567-7891\\n'>\n",
      "<re.Match object; span=(195, 208), match='345.765.8905\\n'>\n",
      "<re.Match object; span=(212, 225), match='456-787-9087\\n'>\n"
     ]
    }
   ],
   "source": [
    "text_to_search = '''\n",
    "abcdefghijklmnopqrstuvwxyz\n",
    "ABCDEFGHIJKLMNOPQRSTUVWXYZ\n",
    "1234567890\n",
    "\n",
    "Ha HaHa\n",
    "\n",
    "MetaCharacters  (Need to be escaped by puttting \\ before them):\n",
    ". ^ $ * + ? { } [ ] \\ | ( )\n",
    "\n",
    "coreyms.com\n",
    "\n",
    "123-567-7891\n",
    "345.765.8905\n",
    "432-456-787-9087\n",
    "123A890A5678\n",
    "123%999%77889900\n",
    "Mr. Schafer\n",
    "Mr. Smith\n",
    "Mr. Davis\n",
    "Mr. Shailesh\n",
    "\n",
    "'''\n",
    "\n",
    "# lets try to find out phone numbers from the string above.\n",
    "\n",
    "pattern = re.compile(r\"\\d\\d\\d-\\d\\d\\d-\\d\\d\\d\\d\")    # it will search like (Digit_Digit_Digit-Digit_Digi_tDigit-Digit ...)\n",
    "\n",
    "pattern = re.compile(r\"\\d\\d\\d.\\d\\d\\d.\\d\\d\\d\\d\")    # here . is a special character so it will search like above \n",
    "                                                   # but place holder '.' will be replaced by any char other than new line.\n",
    "matches = pattern.finditer(text_to_search)\n",
    "\n",
    "for match in matches:\n",
    "    print(match)\n",
    "    \n",
    "# if we only want to search phone no separated by - and . then we use [-.]\n",
    "\n",
    "pattern = re.compile(r\"\\d\\d\\d[-.]\\d\\d\\d[-.]\\d\\d\\d\\d\\s\")\n",
    "# pattern = re.compile(r\"\\d{3}[-.]\\d{3}[-.]\\d{4}\\s\")           using quantifiers make our task easier.\n",
    "\n",
    "matches = pattern.finditer(text_to_search)\n",
    "\n",
    "print(\"\\nphone no search for only those separated by - and .\\n\")\n",
    "for match in matches:\n",
    "    print(match)"
   ]
  },
  {
   "cell_type": "code",
   "execution_count": 19,
   "metadata": {},
   "outputs": [
    {
     "name": "stdout",
     "output_type": "stream",
     "text": [
      "<re.Match object; span=(0, 5), match='Start'>\n",
      "<re.Match object; span=(41, 43), match='en'>\n",
      "\n",
      "<re.Match object; span=(9, 11), match='en'>\n",
      "<re.Match object; span=(12, 14), match='en'>\n",
      "<re.Match object; span=(23, 25), match='en'>\n"
     ]
    }
   ],
   "source": [
    "sentence = 'Start a sentence and then bring it to an end'\n",
    "\n",
    "pattern = re.compile(r\"^Start\")    # searches for Start as the beginning of the string it is case sensitive\n",
    "matches = pattern.finditer(sentence)\n",
    "for match in matches:\n",
    "    print(match)\n",
    "    \n",
    "pattern = re.compile(r\"\\ben\")    # searches for 'en' as an individual word or as strating of a word. like in the word end.\n",
    "matches = pattern.finditer(sentence)\n",
    "for match in matches:\n",
    "    print(match)\n",
    "\n",
    "print() \n",
    "    \n",
    "pattern = re.compile(r\"\\Ben\")    # searches for 'en' in the middle of a word.like in sentence then etc.\n",
    "matches = pattern.finditer(sentence)\n",
    "for match in matches:\n",
    "    print(match)"
   ]
  },
  {
   "cell_type": "markdown",
   "metadata": {},
   "source": [
    "### Use of Quantifier for Easy long Pattern Searching <br><br>*      -  0 or more <br><br>+      -  1 or more <br><br>?      -  0 or one<br><br>{6}    -  exact 6 numbers <br><br>{3,4}  -  range of numbers{minimum, maximum} <br><br>"
   ]
  },
  {
   "cell_type": "code",
   "execution_count": 20,
   "metadata": {},
   "outputs": [
    {
     "name": "stdout",
     "output_type": "stream",
     "text": [
      "<re.Match object; span=(1, 12), match='Mr. Schafer'>\n",
      "<re.Match object; span=(13, 25), match='Mr. Shailesh'>\n",
      "<re.Match object; span=(26, 50), match='Mr. Ajit kumar Prajapati'>\n",
      "<re.Match object; span=(51, 56), match='Mr. T'>\n",
      "<re.Match object; span=(57, 70), match='Mrs. Robinson'>\n",
      "<re.Match object; span=(71, 80), match='Ms. Davis'>\n"
     ]
    }
   ],
   "source": [
    "# lets try to find pattern like---------->   Mr./Mrs./Ms. name\n",
    "string_to_search='''\n",
    "Mr. Schafer\n",
    "Mr. Shailesh\n",
    "Mr. Ajit kumar Prajapati\n",
    "Mr. T\n",
    "Mrs. Robinson\n",
    "Ms. Davis\n",
    "'''\n",
    "\n",
    "#pattern kaise banaye.\n",
    "'''\n",
    "1. starting me hume Mr./Ms./Mrs. or Mr/Ms/Mrs chahiye to hum inka group bna denge \n",
    "    taki wohi string uthe jisme ye tino me se koi v ek ho.   --->  (Mr|Mrs|Ms)\n",
    "\n",
    "2. ab hume dono strings chahiye dot wali like Mr. and bina dot wali like Mr\n",
    "\tto hume 0 or 1 character chahiye to hum ? quatntifier use karenge. --> \\.?\n",
    "\n",
    "3. ab hume name title to mil gaya now we have to put a space after that then we use \\s\n",
    "\n",
    "4. Now finally hume person ka naam chahiye but name can be just a letter or group of letters \n",
    "    then use ---> [a-zA-z] for a single character and will add [\\w ]* to search 0 or more word characters or space \n",
    "    after that single character. so ----> [a-zA-Z][\\w ]*\n",
    "\n",
    "'''\n",
    "\n",
    "pattern = re.compile(r\"(Mr|Mrs|Ms)\\.?\\s[a-zA-Z][\\w ]*\")\n",
    "\n",
    "matches = pattern.finditer(string_to_search)\n",
    "\n",
    "for match in matches:\n",
    "    print(match)"
   ]
  },
  {
   "cell_type": "markdown",
   "metadata": {},
   "source": [
    " # Iterable, Iterators, Generators in python"
   ]
  },
  {
   "cell_type": "markdown",
   "metadata": {},
   "source": [
    "### 1. Iterable&emsp;-   python me koi v chij jo iterate ho sake , jispe looping kr sake wo iterable hai."
   ]
  },
  {
   "cell_type": "markdown",
   "metadata": {},
   "source": [
    "### 2. Iterator&emsp-  iterable ko jb iter(iterable) method me pass krte hai to ek object create hota<br>  hai jise iterator kehte hai.<br><br>kisi v iterator ke pass 2 methods hote hai<br><br>1. iter() - for iterating over the loop.<br>2. next(iterator)  - to access the next value in the iterator."
   ]
  },
  {
   "cell_type": "markdown",
   "metadata": {},
   "source": [
    "### Generators  are of two types<br><ol><li>Function  -  it is same as a normal function but uses a keyword 'yield' to return values(one value at a time.)</li><li>Object  -  it is like a iterator.</li></ol>"
   ]
  },
  {
   "cell_type": "code",
   "execution_count": 21,
   "metadata": {},
   "outputs": [
    {
     "name": "stdout",
     "output_type": "stream",
     "text": [
      "5-1\n",
      "5-2\n",
      "5-3\n",
      "6-1\n",
      "6-2\n",
      "6-3\n",
      "7-1\n",
      "7-2\n",
      "7-3\n"
     ]
    }
   ],
   "source": [
    "def simpleGeneratorFun(l1):       #  generator function\n",
    "    for x in l1:\n",
    "        yield f\"{x}-{1}\"\n",
    "        yield f\"{x}-{2}\"\n",
    "        yield f\"{x}-{3}\"\n",
    "\n",
    "l1=[5,6,7]\n",
    "Gen_object = simpleGeneratorFun(l1)   # generator object\n",
    "\n",
    "for x in Gen_object:\n",
    "\tprint(x)\n"
   ]
  },
  {
   "cell_type": "code",
   "execution_count": 22,
   "metadata": {},
   "outputs": [
    {
     "name": "stdout",
     "output_type": "stream",
     "text": [
      "<generator object <genexpr> at 0x000000545B09ED60>\n",
      "1 2 3 4 5 6 7 8 9 10 11 12 13 14 15 16 17 18 19 20 21 22 23 24 25 26 27 28 29 30 31 32 33 34 35 36 37 38 39 40 41 42 43 44 45 46 47 48 49 50 51 52 53 54 55 56 57 58 59 60 61 62 63 64 65 66 67 68 69 70 71 72 73 74 75 76 77 78 79 80 81 82 83 84 85 86 87 88 89 90 91 92 93 94 95 96 97 98 99 "
     ]
    }
   ],
   "source": [
    "#Converting a list into a generator.\n",
    "list1 = list(range(1,100))\n",
    "Gen_Object = (x for x in list1)    # generator object. doesn't take any extra memory as it doesn't contain the data in it.\n",
    "                                   # when it is looped over the next() method is called and it perform operations on the \n",
    "                                   # elements of the object one at a time. it increases the performance in terms of memory\n",
    "                                   # and execution time.\n",
    "print(Gen_Object)\n",
    "\n",
    "# iterating over the Generator object\n",
    "for i in Gen_Object:\n",
    "    print(i,end=\" \")"
   ]
  },
  {
   "cell_type": "markdown",
   "metadata": {},
   "source": [
    "# First Class Function - python<br><h3>A programming language is said to support first-class functions if it treats functions as first-class objects. Python supports the concept of First Class functions.<br><br><br>Properties of first class functions:<br><br>&emsp; A function is an instance of the Object type.<br><br>&emsp; You can store the function in a variable.<br><br>&emsp; You can pass the function as a parameter to another function.<br><br>&emsp; You can return the function from a function.<br><br>&emsp; You can store them in data structures such as hash tables, lists, …</h3>"
   ]
  },
  {
   "cell_type": "code",
   "execution_count": 23,
   "metadata": {},
   "outputs": [
    {
     "name": "stdout",
     "output_type": "stream",
     "text": [
      "This is a function called myfunction\n",
      "This is a function called myfunction\n"
     ]
    }
   ],
   "source": [
    "def myfunction():\n",
    "    print(\"This is a function called myfunction\")\n",
    "\n",
    "myfunction()                   # normal function call\n",
    "\n",
    "functionObject = myfunction    # storing fuction in a object\n",
    "\n",
    "functionObject()               # calling this is equivalent to calling myfunction()."
   ]
  },
  {
   "cell_type": "code",
   "execution_count": 24,
   "metadata": {},
   "outputs": [
    {
     "name": "stdout",
     "output_type": "stream",
     "text": [
      "this is inner function\n",
      "this is outer function\n"
     ]
    }
   ],
   "source": [
    "def outerFunction():                          # outer function\n",
    "    msg=\"this is outer function\"\n",
    "    \n",
    "    def innerFunction():                      # inner function\n",
    "        print(\"this is inner function\")\n",
    "        print(msg)\n",
    "    return innerFunction                      # returning inner function \n",
    "\n",
    "functionObj = outerFunction()                 # innerFunction is returned and kept as a object in functionObj\n",
    "\n",
    "functionObj()                                 # calling functionObj as a function"
   ]
  },
  {
   "cell_type": "markdown",
   "metadata": {},
   "source": [
    "## Decorators in python.<br><br><font color = 'grey'>using decorators hum kisi v function ki functionality dynamically change kr skte hai without modifying its behaviour.<br><br>decorators me hum  function ko as a argument pass krte hai.<br><br>Apart from function decoraters me hum string, class v pass kr skte hai.</font>"
   ]
  },
  {
   "cell_type": "markdown",
   "metadata": {},
   "source": [
    "### Decorator Example  -  passing function as argument."
   ]
  },
  {
   "cell_type": "code",
   "execution_count": 25,
   "metadata": {},
   "outputs": [
    {
     "name": "stdout",
     "output_type": "stream",
     "text": [
      "inside wrapper_function: before execution\n",
      "I am inside myfunction\n",
      "inside wrapper_function: after execution\n"
     ]
    }
   ],
   "source": [
    "def hello_decorator(myFunction):                         # defining decorator function which accepts a function\n",
    "    \n",
    "    def wrapper_function():\n",
    "        \n",
    "        print(\"inside wrapper_function: before execution\")\n",
    "        myfunction()\n",
    "        print(\"inside wrapper_function: after execution\")\n",
    "        \n",
    "    return wrapper_function                              # returning wrapper_function to a object\n",
    "\n",
    "def myfunction():                                        # function whose functionality we want to modify\n",
    "    print(\"I am inside myfunction\")\n",
    "\n",
    "decorator_object = hello_decorator(myfunction)           # passing the function to the decorator\n",
    "\n",
    "decorator_object()                                       # calling this object as a function.\n"
   ]
  },
  {
   "cell_type": "markdown",
   "metadata": {},
   "source": [
    "### using annotation : above example solved by using '@' annotation"
   ]
  },
  {
   "cell_type": "code",
   "execution_count": 29,
   "metadata": {},
   "outputs": [
    {
     "name": "stdout",
     "output_type": "stream",
     "text": [
      "inside wrapper_function: before execution\n",
      "I am inside myfunction\n",
      "inside wrapper_function: after execution\n"
     ]
    }
   ],
   "source": [
    "def hello_decorator(myfunction):                         # defining decorator function which accepts a function\n",
    "    \n",
    "    def wrapper_function():\n",
    "        \n",
    "        print(\"inside wrapper_function: before execution\")\n",
    "        myfunction()\n",
    "        print(\"inside wrapper_function: after execution\")\n",
    "        \n",
    "    return wrapper_function                              # returning wrapper_function to a object\n",
    "\n",
    "\n",
    "@hello_decorator                                         # it denotes that when the below method is called it should be passed \n",
    "                                                         # to the decorator function written after '@'.\n",
    "    \n",
    "def myfunction():                                        # function whose functionality we want to modify\n",
    "    print(\"I am inside myfunction\")\n",
    "    \n",
    "myfunction()                                            # calling function directly which will pass it in decorator fuction.\n",
    "    "
   ]
  },
  {
   "cell_type": "code",
   "execution_count": null,
   "metadata": {},
   "outputs": [],
   "source": []
  }
 ],
 "metadata": {
  "kernelspec": {
   "display_name": "Python 3",
   "language": "python",
   "name": "python3"
  },
  "language_info": {
   "codemirror_mode": {
    "name": "ipython",
    "version": 3
   },
   "file_extension": ".py",
   "mimetype": "text/x-python",
   "name": "python",
   "nbconvert_exporter": "python",
   "pygments_lexer": "ipython3",
   "version": "3.8.1"
  }
 },
 "nbformat": 4,
 "nbformat_minor": 4
}
