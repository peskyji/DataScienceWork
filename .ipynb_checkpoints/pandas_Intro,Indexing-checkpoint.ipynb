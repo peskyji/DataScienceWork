{
 "cells": [
  {
   "cell_type": "markdown",
   "metadata": {},
   "source": [
    "# Pandas\n",
    "- <h3>for reading data from different source and perfom optimal analysis on it."
   ]
  },
  {
   "cell_type": "code",
   "execution_count": 1,
   "metadata": {},
   "outputs": [],
   "source": [
    "import pandas as pd\n",
    "import numpy as np"
   ]
  },
  {
   "cell_type": "markdown",
   "metadata": {},
   "source": [
    "# Python Pandas Data Structure\n",
    "- <h3>1.Data Series</h3>\n",
    " - a one-dimensional array storing diff data types. <br>\n",
    " - data types like list, dictionary or scalar value.\n",
    "- <h3>2.Data Frames</h3>\n",
    "     - DataFrame is defined as a standard way to store data and has two different indexes, i.e., row index and column index. \n"
   ]
  },
  {
   "cell_type": "markdown",
   "metadata": {},
   "source": [
    "### Lets talk about data frame first"
   ]
  },
  {
   "cell_type": "markdown",
   "metadata": {},
   "source": [
    "# DataFrame\n",
    "\n",
    "### <font color=red>pd.DataFrame(data=None, index=None, columns=None, dtype=None, copy=False)</font>\n",
    "#### data = list, array, dict etc<br>index = values for row index names by default is 0 1 2 3 4.....<br> columns = values for column names by default is 0 1 2 3 4 ......\n",
    "\n"
   ]
  },
  {
   "cell_type": "code",
   "execution_count": 37,
   "metadata": {},
   "outputs": [
    {
     "data": {
      "text/html": [
       "<div>\n",
       "<style scoped>\n",
       "    .dataframe tbody tr th:only-of-type {\n",
       "        vertical-align: middle;\n",
       "    }\n",
       "\n",
       "    .dataframe tbody tr th {\n",
       "        vertical-align: top;\n",
       "    }\n",
       "\n",
       "    .dataframe thead th {\n",
       "        text-align: right;\n",
       "    }\n",
       "</style>\n",
       "<table border=\"1\" class=\"dataframe\">\n",
       "  <thead>\n",
       "    <tr style=\"text-align: right;\">\n",
       "      <th></th>\n",
       "      <th>0</th>\n",
       "    </tr>\n",
       "  </thead>\n",
       "  <tbody>\n",
       "    <tr>\n",
       "      <th>0</th>\n",
       "      <td>10</td>\n",
       "    </tr>\n",
       "    <tr>\n",
       "      <th>1</th>\n",
       "      <td>11</td>\n",
       "    </tr>\n",
       "    <tr>\n",
       "      <th>2</th>\n",
       "      <td>12</td>\n",
       "    </tr>\n",
       "    <tr>\n",
       "      <th>3</th>\n",
       "      <td>13</td>\n",
       "    </tr>\n",
       "    <tr>\n",
       "      <th>4</th>\n",
       "      <td>14</td>\n",
       "    </tr>\n",
       "    <tr>\n",
       "      <th>5</th>\n",
       "      <td>15</td>\n",
       "    </tr>\n",
       "  </tbody>\n",
       "</table>\n",
       "</div>"
      ],
      "text/plain": [
       "    0\n",
       "0  10\n",
       "1  11\n",
       "2  12\n",
       "3  13\n",
       "4  14\n",
       "5  15"
      ]
     },
     "execution_count": 37,
     "metadata": {},
     "output_type": "execute_result"
    }
   ],
   "source": [
    "list1 = list(range(10,16))\n",
    "df = pd.DataFrame(list1)\n",
    "df"
   ]
  },
  {
   "cell_type": "code",
   "execution_count": 67,
   "metadata": {},
   "outputs": [
    {
     "name": "stdout",
     "output_type": "stream",
     "text": [
      "array is : \n",
      " [ 0  1  2  3  4  5  6  7  8  9 10 11 12 13 14 15 16 17 18 19 20 21 22 23] \n",
      "\n",
      "shuffled array is \n",
      " [19 14  2 20  8  1 18 21  5  9 12 17 23  0 10 13  6 22 11 15  4 16  7  3] \n",
      "\n",
      "a 4*6 size array \n",
      " [[19 14  2 20  8  1]\n",
      " [18 21  5  9 12 17]\n",
      " [23  0 10 13  6 22]\n",
      " [11 15  4 16  7  3]]\n"
     ]
    }
   ],
   "source": [
    "arr = np.arange(24)\n",
    "print(\"array is : \\n\",arr,\"\\n\")\n",
    "\n",
    "np.random.shuffle(arr)    # shuffling the array created\n",
    "print(\"shuffled array is \\n\",arr,\"\\n\")\n",
    "\n",
    "arr=arr.reshape(4,6)      # reshaping array.\n",
    "print(\"a 4*6 size array \\n\",arr)"
   ]
  },
  {
   "cell_type": "code",
   "execution_count": 71,
   "metadata": {},
   "outputs": [
    {
     "data": {
      "text/html": [
       "<div>\n",
       "<style scoped>\n",
       "    .dataframe tbody tr th:only-of-type {\n",
       "        vertical-align: middle;\n",
       "    }\n",
       "\n",
       "    .dataframe tbody tr th {\n",
       "        vertical-align: top;\n",
       "    }\n",
       "\n",
       "    .dataframe thead th {\n",
       "        text-align: right;\n",
       "    }\n",
       "</style>\n",
       "<table border=\"1\" class=\"dataframe\">\n",
       "  <thead>\n",
       "    <tr style=\"text-align: right;\">\n",
       "      <th></th>\n",
       "      <th>0</th>\n",
       "      <th>1</th>\n",
       "      <th>2</th>\n",
       "      <th>3</th>\n",
       "      <th>4</th>\n",
       "      <th>5</th>\n",
       "    </tr>\n",
       "  </thead>\n",
       "  <tbody>\n",
       "    <tr>\n",
       "      <th>0</th>\n",
       "      <td>19</td>\n",
       "      <td>14</td>\n",
       "      <td>2</td>\n",
       "      <td>20</td>\n",
       "      <td>8</td>\n",
       "      <td>1</td>\n",
       "    </tr>\n",
       "    <tr>\n",
       "      <th>1</th>\n",
       "      <td>18</td>\n",
       "      <td>21</td>\n",
       "      <td>5</td>\n",
       "      <td>9</td>\n",
       "      <td>12</td>\n",
       "      <td>17</td>\n",
       "    </tr>\n",
       "    <tr>\n",
       "      <th>2</th>\n",
       "      <td>23</td>\n",
       "      <td>0</td>\n",
       "      <td>10</td>\n",
       "      <td>13</td>\n",
       "      <td>6</td>\n",
       "      <td>22</td>\n",
       "    </tr>\n",
       "    <tr>\n",
       "      <th>3</th>\n",
       "      <td>11</td>\n",
       "      <td>15</td>\n",
       "      <td>4</td>\n",
       "      <td>16</td>\n",
       "      <td>7</td>\n",
       "      <td>3</td>\n",
       "    </tr>\n",
       "  </tbody>\n",
       "</table>\n",
       "</div>"
      ],
      "text/plain": [
       "    0   1   2   3   4   5\n",
       "0  19  14   2  20   8   1\n",
       "1  18  21   5   9  12  17\n",
       "2  23   0  10  13   6  22\n",
       "3  11  15   4  16   7   3"
      ]
     },
     "execution_count": 71,
     "metadata": {},
     "output_type": "execute_result"
    }
   ],
   "source": [
    "df = pd.DataFrame(arr)     # creating a data frmae for arr\n",
    "\n",
    "df                         # 4*6 size array is presented in form of a 2d table\n",
    "                           # having row and column labels/indexes/headings with it."
   ]
  },
  {
   "cell_type": "code",
   "execution_count": 91,
   "metadata": {},
   "outputs": [
    {
     "data": {
      "text/html": [
       "<div>\n",
       "<style scoped>\n",
       "    .dataframe tbody tr th:only-of-type {\n",
       "        vertical-align: middle;\n",
       "    }\n",
       "\n",
       "    .dataframe tbody tr th {\n",
       "        vertical-align: top;\n",
       "    }\n",
       "\n",
       "    .dataframe thead th {\n",
       "        text-align: right;\n",
       "    }\n",
       "</style>\n",
       "<table border=\"1\" class=\"dataframe\">\n",
       "  <thead>\n",
       "    <tr style=\"text-align: right;\">\n",
       "      <th></th>\n",
       "      <th>Col 1</th>\n",
       "      <th>Col 2</th>\n",
       "      <th>Col 3</th>\n",
       "      <th>Col 4</th>\n",
       "      <th>Col 5</th>\n",
       "      <th>Col 6</th>\n",
       "    </tr>\n",
       "  </thead>\n",
       "  <tbody>\n",
       "    <tr>\n",
       "      <th>Row 1</th>\n",
       "      <td>19</td>\n",
       "      <td>14</td>\n",
       "      <td>2</td>\n",
       "      <td>20</td>\n",
       "      <td>8</td>\n",
       "      <td>1</td>\n",
       "    </tr>\n",
       "    <tr>\n",
       "      <th>Row 2</th>\n",
       "      <td>18</td>\n",
       "      <td>21</td>\n",
       "      <td>5</td>\n",
       "      <td>9</td>\n",
       "      <td>12</td>\n",
       "      <td>17</td>\n",
       "    </tr>\n",
       "    <tr>\n",
       "      <th>row 3</th>\n",
       "      <td>23</td>\n",
       "      <td>0</td>\n",
       "      <td>10</td>\n",
       "      <td>13</td>\n",
       "      <td>6</td>\n",
       "      <td>22</td>\n",
       "    </tr>\n",
       "    <tr>\n",
       "      <th>row 4</th>\n",
       "      <td>11</td>\n",
       "      <td>15</td>\n",
       "      <td>4</td>\n",
       "      <td>16</td>\n",
       "      <td>7</td>\n",
       "      <td>3</td>\n",
       "    </tr>\n",
       "  </tbody>\n",
       "</table>\n",
       "</div>"
      ],
      "text/plain": [
       "       Col 1  Col 2  Col 3  Col 4  Col 5  Col 6\n",
       "Row 1     19     14      2     20      8      1\n",
       "Row 2     18     21      5      9     12     17\n",
       "row 3     23      0     10     13      6     22\n",
       "row 4     11     15      4     16      7      3"
      ]
     },
     "execution_count": 91,
     "metadata": {},
     "output_type": "execute_result"
    }
   ],
   "source": [
    "# giving custom row and column indexes\n",
    "\n",
    "row_index = [\"Row 1\",\"Row 2\",\"row 3\",\"row 4\"]\n",
    "col_index = [\"Col 1\",\"Col 2\",\"Col 3\",\"Col 4\",\"Col 5\",\"Col 6\"]\n",
    "\n",
    "df = pd.DataFrame(arr, index = row_index, columns = col_index)\n",
    "df"
   ]
  },
  {
   "cell_type": "markdown",
   "metadata": {},
   "source": [
    "# accessing rows and columns in data frame\n",
    " -  2 methods : -\n",
    "  - i). loc\n",
    "  - ii). iloc or indexed location"
   ]
  },
  {
   "cell_type": "code",
   "execution_count": 135,
   "metadata": {},
   "outputs": [
    {
     "name": "stdout",
     "output_type": "stream",
     "text": [
      "       Col 1  Col 2\n",
      "Row 1     19     14 \n",
      "\n",
      "Col 1    19\n",
      "Col 2    14\n",
      "Col 3     2\n",
      "Col 4    20\n",
      "Col 5     8\n",
      "Col 6     1\n",
      "Name: Row 1, dtype: int32 \n",
      "\n",
      "using iloc \n",
      "\n",
      "        Col 1  Col 2  Col 3  Col 4  Col 5  Col 6\n",
      "Row 1     19     14      2     20      8      1\n",
      "Row 2     18     21      5      9     12     17\n",
      "row 3     23      0     10     13      6     22\n",
      "row 4     11     15      4     16      7      3\n",
      "\n",
      "        Col 2  Col 3  Col 4\n",
      "Row 1     14      2     20\n",
      "Row 2     21      5      9\n",
      "row 3      0     10     13\n"
     ]
    }
   ],
   "source": [
    "df2 = df.loc[:\"Row 1\",\"Col 1\":\"Col 2\"]\n",
    "print(df2,\"\\n\")\n",
    "\n",
    "df3 = df.loc[\"Row 1\"]\n",
    "print(df3,\"\\n\")\n",
    "\n",
    "#df2 = df.loc[0:]           # error as there is no 0 row location it is now named Row 1.\n",
    "                            # to solve this we use iloc index location.\n",
    "\n",
    "df4 = df.iloc[0:]\n",
    "print(\"using iloc \\n\\n\",df4)\n",
    "\n",
    "print(\"\\n\",df.iloc[:3,1:4])"
   ]
  },
  {
   "cell_type": "markdown",
   "metadata": {},
   "source": [
    "# accessing particular column or various random columns directly"
   ]
  },
  {
   "cell_type": "code",
   "execution_count": 46,
   "metadata": {},
   "outputs": [
    {
     "name": "stdout",
     "output_type": "stream",
     "text": [
      "array is : \n",
      " [[ 5  1  7  2]\n",
      " [ 6 10  8  3]\n",
      " [ 4  9 11  0]]\n",
      "\n",
      "DataFrame is :\n",
      "     c1  c2  c3  c4\n",
      "r1   5   1   7   2\n",
      "r2   6  10   8   3\n",
      "r3   4   9  11   0\n",
      "<class 'pandas.core.frame.DataFrame'>\n",
      "\n",
      "accessing column c1 only:      c1\n",
      "r1   5\n",
      "r2   6\n",
      "r3   4\n",
      "\n",
      "accessing multiple random columns:\n",
      "     c1  c3  c4\n",
      "r1   5   7   2\n",
      "r2   6   8   3\n",
      "r3   4  11   0\n"
     ]
    }
   ],
   "source": [
    "arr2 = np.arange(12)\n",
    "np.random.shuffle(arr2)\n",
    "arr2 = arr2.reshape(3,4)\n",
    "print(\"array is : \\n\",arr2)\n",
    "\n",
    "rindex = [\"r1\",\"r2\",\"r3\"]\n",
    "cindex = [\"c1\",\"c2\",\"c3\",\"c4\"]\n",
    "\n",
    "df = pd.DataFrame(arr2, index = rindex, columns = cindex)\n",
    "print(\"\\nDataFrame is :\\n\",df)\n",
    "\n",
    "column1 = df[['c1']]                           # accessing single index.\n",
    "print(type(column1))\n",
    "print(\"\\naccessing column c1 only: \",column1)\n",
    "\n",
    "random_columns = df[['c1','c3','c4']]\n",
    "print(\"\\naccessing multiple random columns:\\n\",random_columns)\n",
    "\n"
   ]
  },
  {
   "cell_type": "markdown",
   "metadata": {},
   "source": [
    "# accessing particular rows/column or various random rows/columns using loc and iloc"
   ]
  },
  {
   "cell_type": "code",
   "execution_count": 74,
   "metadata": {},
   "outputs": [
    {
     "name": "stdout",
     "output_type": "stream",
     "text": [
      "    c1  c2  c3  c4\n",
      "r1   5   1   7   2\n",
      "r2   6  10   8   3\n",
      "r3   4   9  11   0\n",
      "\n",
      "using loc:\n",
      "    c1  c3\n",
      "r1   5   7\n",
      "r3   4  11\n",
      "\n",
      "using iloc:\n",
      "    c1  c2  c4\n",
      "r1   5   1   2\n",
      "r3   4   9   0\n"
     ]
    }
   ],
   "source": [
    "arr = np.array( [[5,1,7,2],[6,10,8,3],[4,9,11,0]] )\n",
    "df = pd.DataFrame(arr,index=['r1','r2','r3'],columns=['c1','c2','c3','c4'])\n",
    "print(df)\n",
    "\n",
    "# df.loc[[rows],[columns]]\n",
    "print(\"\\nusing loc:\")\n",
    "print(df.loc[['r1','r3'],['c1','c3']])\n",
    "\n",
    "# df.iloc[[row_indexes],[col_indexes]]\n",
    "print(\"\\nusing iloc:\")\n",
    "print(df.iloc[[0,2],[0,1,3]])\n",
    "\n"
   ]
  }
 ],
 "metadata": {
  "kernelspec": {
   "display_name": "Python 3",
   "language": "python",
   "name": "python3"
  },
  "language_info": {
   "codemirror_mode": {
    "name": "ipython",
    "version": 3
   },
   "file_extension": ".py",
   "mimetype": "text/x-python",
   "name": "python",
   "nbconvert_exporter": "python",
   "pygments_lexer": "ipython3",
   "version": "3.8.1"
  }
 },
 "nbformat": 4,
 "nbformat_minor": 4
}
